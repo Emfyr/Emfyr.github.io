{
  "nbformat": 4,
  "nbformat_minor": 0,
  "metadata": {
    "colab": {
      "name": "Colab Manga.ipynb",
      "provenance": [],
      "collapsed_sections": [],
      "include_colab_link": true
    },
    "kernelspec": {
      "name": "python3",
      "display_name": "Python 3"
    }
  },
  "cells": [
    {
      "cell_type": "markdown",
      "metadata": {
        "id": "view-in-github",
        "colab_type": "text"
      },
      "source": [
        "<a href=\"https://colab.research.google.com/github/Emfyr/emfyr.github.io/blob/master/Colab_Manga.ipynb\" target=\"_parent\"><img src=\"https://colab.research.google.com/assets/colab-badge.svg\" alt=\"Open In Colab\"/></a>"
      ]
    },
    {
      "cell_type": "code",
      "metadata": {
        "id": "nS7VWM4YtnXt",
        "colab_type": "code",
        "colab": {}
      },
      "source": [
        "from google.colab import drive\n",
        "drive.mount('/content/drive')"
      ],
      "execution_count": 0,
      "outputs": []
    },
    {
      "cell_type": "code",
      "metadata": {
        "id": "VySQlHNgt9eN",
        "colab_type": "code",
        "colab": {}
      },
      "source": [
        "cd \"/content/drive/My Drive/\""
      ],
      "execution_count": 0,
      "outputs": []
    },
    {
      "cell_type": "code",
      "metadata": {
        "id": "GfzzrAH5t-71",
        "colab_type": "code",
        "colab": {}
      },
      "source": [
        "!pip install gallery-dl"
      ],
      "execution_count": 0,
      "outputs": []
    },
    {
      "cell_type": "code",
      "metadata": {
        "id": "PrQFnuICuIUd",
        "colab_type": "code",
        "colab": {}
      },
      "source": [
        "!gallery-dl \"link\""
      ],
      "execution_count": 0,
      "outputs": []
    },
    {
      "cell_type": "code",
      "metadata": {
        "id": "qzbtd9wtxhG8",
        "colab_type": "code",
        "colab": {}
      },
      "source": [
        "!7z -v100m a \"name\" ./gallery-dl/*"
      ],
      "execution_count": 0,
      "outputs": []
    },
    {
      "cell_type": "code",
      "metadata": {
        "id": "HmA54LvYXXN6",
        "colab_type": "code",
        "colab": {}
      },
      "source": [
        "!rmdir -r ./gallery-dl/"
      ],
      "execution_count": 0,
      "outputs": []
    }
  ]
}