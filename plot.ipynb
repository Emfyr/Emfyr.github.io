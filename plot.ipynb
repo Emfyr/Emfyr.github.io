{
  "nbformat": 4,
  "nbformat_minor": 0,
  "metadata": {
    "anaconda-cloud": {},
    "kernelspec": {
      "display_name": "Python 3",
      "language": "python",
      "name": "python3"
    },
    "language_info": {
      "codemirror_mode": {
        "name": "ipython",
        "version": 3
      },
      "file_extension": ".py",
      "mimetype": "text/x-python",
      "name": "python",
      "nbconvert_exporter": "python",
      "pygments_lexer": "ipython3",
      "version": "3.6.1"
    },
    "colab": {
      "name": "plot.ipynb",
      "provenance": [],
      "collapsed_sections": []
    }
  },
  "cells": [
    {
      "cell_type": "markdown",
      "metadata": {
        "id": "iS173FI9OL0h",
        "colab_type": "text"
      },
      "source": [
        "# This will download files (most likely music) from my mega import folder to mega folder in /content/, extract zip,rar,7z files, delete the archive files, convert png to jpg, convert all flac,aiff,wav files to opus, delete png,flac,aiff,wav files, archive them with each single archive being 300mb in the rar folder of /My Drive/\n",
        "\n",
        "Don't forget to change name of the archive.\n",
        "\n",
        "Don't forget to change directory to /content/mega/ before downloading files form mega.\n",
        "\n",
        "Use \"-p'your_password'\" in 7z command if file is password protected."
      ]
    },
    {
      "cell_type": "code",
      "metadata": {
        "id": "0hgUJqcvOOfG",
        "colab_type": "code",
        "colab": {}
      },
      "source": [
        "from google.colab import drive\n",
        "drive.mount('/content/drive')\n"
      ],
      "execution_count": 0,
      "outputs": []
    },
    {
      "cell_type": "code",
      "metadata": {
        "id": "7ovuraX0PQKa",
        "colab_type": "code",
        "colab": {}
      },
      "source": [
        "%cd \"/content/\"\n",
        "!curl https://rclone.org/install.sh | sudo bash\n",
        "!apt install parallel imagemagick opus-tools\n",
        "!wget https://www.dropbox.com/s/wuvnnfo8wg9xew8/rclone.conf https://www.dropbox.com/s/ziyqspg5hfktms9/exclude.txt\n",
        "\n",
        "!mkdir \"/root/.config/rclone/\"\n",
        "!mv \"/content/rclone.conf\" \"/root/.config/rclone/\"\n"
      ],
      "execution_count": 0,
      "outputs": []
    },
    {
      "cell_type": "code",
      "metadata": {
        "id": "l5jPZjj-PXt2",
        "colab_type": "code",
        "colab": {}
      },
      "source": [
        "%cd \"/content/\"\n",
        "!rclone move --checkers=10 --multi-thread-cutoff=10M --multi-thread-streams=10 --retries=10 --use-mmap --buffer-size=2000M --exclude-from=/content/exclude.txt --mega-hard-delete --transfers=10 \"mega:a\" \"/content/mega/\"\n"
      ],
      "execution_count": 0,
      "outputs": []
    },
    {
      "cell_type": "code",
      "metadata": {
        "id": "apQWlqoEPYbm",
        "colab_type": "code",
        "colab": {}
      },
      "source": [
        "%cd \"/content/mega/\"\n",
        "\n",
        "!find -size -1k -delete\n",
        "!find -iname \"*.zip\" -o -iname \"*.rar\" -o \"*.7z\" -print0 | parallel -0 -j 10 '7z -o{.} x {}'\n",
        "!find -iname \"*.zip\" -o -iname \"*.rar\" -o \"*.7z\" -delete\n",
        "\n",
        "!find -iname \"*.png\" -print0 | parallel -0 -j 10 'convert {} -quality 90 {.}.jpg'\n",
        "!find -iname \"*.flac\" -o -iname \"*.aiff\" -o -iname \"*.wav\" -print0 | parallel -0 -j 10 'opusenc --quiet --discard-pictures --bitrate 192 {} {.}.opus'\n",
        "!find -iname \"*.flac\" -o -iname \"*.aiff\" -o -iname \"*.wav\" -print0 | parallel -0 -j 10 'ffmpeg -loglevel warning -n -i {} -c:a libopus -b:a 192k {.}.opus'\n",
        "\n",
        "!find -iname \"*.flac\" -o -iname \"*.aiff\" -o -iname \"*.wav\" -o \"*.png\" -delete\n"
      ],
      "execution_count": 0,
      "outputs": []
    },
    {
      "cell_type": "code",
      "metadata": {
        "id": "5n1XCBTUPfXr",
        "colab_type": "code",
        "colab": {}
      },
      "source": [
        "%cd \"/content/drive/Shared drives/music/\"\n",
        "\n",
        "#Input album name\n",
        "!7z -v500m -mx0 -mmt4 -pemfyr a \"album_name\" \"/content/mega/\"\n",
        "\n",
        "%cd \"/content/\"\n"
      ],
      "execution_count": 0,
      "outputs": []
    },
    {
      "cell_type": "code",
      "metadata": {
        "id": "i_zxh4kIPgwB",
        "colab_type": "code",
        "colab": {}
      },
      "source": [
        "!rm -rf \"/content/mega/\"\n"
      ],
      "execution_count": 0,
      "outputs": []
    },
    {
      "cell_type": "markdown",
      "metadata": {
        "id": "C0Ma9UBGPtrA",
        "colab_type": "text"
      },
      "source": [
        "# This download manga to \"/content\", then archive them into group of 500MB each file (directly in drive)\n",
        "Don't forget to change the archive name.\n",
        "\n",
        "If downloading from mangadex, always use\n",
        "    \n",
        "    --chapter-filter \"lang == 'en'\"\n"
      ]
    },
    {
      "cell_type": "code",
      "metadata": {
        "id": "eaGXIWd_PvcQ",
        "colab_type": "code",
        "colab": {}
      },
      "source": [
        "from google.colab import drive\n",
        "drive.mount('/content/drive')\n"
      ],
      "execution_count": 0,
      "outputs": []
    },
    {
      "cell_type": "code",
      "metadata": {
        "id": "Udbs3d6DP0r1",
        "colab_type": "code",
        "colab": {}
      },
      "source": [
        "!pip install gallery-dl\n"
      ],
      "execution_count": 0,
      "outputs": []
    },
    {
      "cell_type": "code",
      "metadata": {
        "id": "Jh6_xIykQm2q",
        "colab_type": "code",
        "colab": {}
      },
      "source": [
        "%cd \"/content/\"\n",
        "\n",
        "#Input link\n",
        "!gallery-dl \"Link\"\n",
        "\n",
        "%cd \"/content/drive/Shared drives/colab2/pics/manga\"\n",
        "!find \"/content/gallery-dl/\" -maxdepth 2 -mindepth 2 -type d -print0 | parallel -0 -j 10 '7z -v500m -mx0 -mmt4 -pemfyr a {}.7z {}'\n",
        "\n",
        "%cd \"/content/\"\n",
        "!rm -rf \"/content/gallery-dl/\"\n"
      ],
      "execution_count": 0,
      "outputs": []
    },
    {
      "cell_type": "markdown",
      "metadata": {
        "id": "H49YQ_85QsEa",
        "colab_type": "text"
      },
      "source": [
        "                                                            OR\n",
        "\n",
        "---\n",
        "\n"
      ]
    },
    {
      "cell_type": "code",
      "metadata": {
        "id": "zE6Ly-kjQpcn",
        "colab_type": "code",
        "colab": {}
      },
      "source": [
        "from google.colab import drive\n",
        "drive.mount('/content/drive')\n"
      ],
      "execution_count": 0,
      "outputs": []
    },
    {
      "cell_type": "code",
      "metadata": {
        "id": "rCIjNSjtRHIc",
        "colab_type": "code",
        "colab": {}
      },
      "source": [
        "!pip install manga-py\n"
      ],
      "execution_count": 0,
      "outputs": []
    },
    {
      "cell_type": "code",
      "metadata": {
        "id": "CsllAE3URIVY",
        "colab_type": "code",
        "colab": {}
      },
      "source": [
        "%cd \"/content/\"\n",
        "\n",
        "#Input Link\n",
        "!manga-py -t 30 -f --no-progress \"Link\"\n",
        "\n",
        "%cd \"/content/drive/Shared drives/colab2/pics/manga\"\n",
        "!find \"/content/Manga/\" -mindepth 1 -maxdepth 1 -type d -print0 | parallel -0 -j 10 '7z -v500m -mx0 -mmt4 -pemfyr a {}.7z {}'\n",
        "\n",
        "%cd \"/content/\"\n",
        "!rm -rf \"/content/Manga/\"\n"
      ],
      "execution_count": 0,
      "outputs": []
    },
    {
      "cell_type": "markdown",
      "metadata": {
        "id": "_F9nu22hRW7z",
        "colab_type": "text"
      },
      "source": [
        "# Download torrent to wherever you want (-d)\n",
        "    \n",
        "-Use for torrent file    -T file.torrent\n",
        "\n",
        "-Following only work if file is torrent (To show files)   -S\n",
        "\n",
        "\n",
        "-This would well slect files to download\n",
        "\n",
        "    --select-file=x-y,z,a-b\n"
      ]
    },
    {
      "cell_type": "code",
      "metadata": {
        "id": "pOdAESaaRVRs",
        "colab_type": "code",
        "colab": {}
      },
      "source": [
        "from google.colab import drive\n",
        "drive.mount('/content/drive')\n"
      ],
      "execution_count": 0,
      "outputs": []
    },
    {
      "cell_type": "code",
      "metadata": {
        "id": "TSOEScSFRauu",
        "colab_type": "code",
        "colab": {}
      },
      "source": [
        "!apt install aria2\n"
      ],
      "execution_count": 0,
      "outputs": []
    },
    {
      "cell_type": "code",
      "metadata": {
        "id": "m_MbkC2MRv3a",
        "colab_type": "code",
        "colab": {}
      },
      "source": [
        "#                                                      OPTIONAL\n",
        "\n",
        "\n",
        "#create .torrent file from magnet link (usefull when trying to see whats inside the torrent ot to use --select-files command)\n",
        "!aria2c --bt-metadata-only=true --bt-save-metadata=true -d /content -q \"magnet_link\"\n",
        "\n",
        "#Show inside of torrent with index numbers\n",
        "#Input torrent file\n",
        "!aria2c -S '.torrent_file'\n"
      ],
      "execution_count": 0,
      "outputs": []
    },
    {
      "cell_type": "code",
      "metadata": {
        "id": "YVEVuUuyRfOP",
        "colab_type": "code",
        "colab": {}
      },
      "source": [
        "!aria2c --max-connection-per-server=16 --split=16 --seed-time=0 --download-result=full --auto-save-interval=20 --bt-max-open-files=10000 --save-session-interval=20 --summary-interval=10 -d \"/content/Torrent\" \"magnet_link_or_torrent_file\" \n"
      ],
      "execution_count": 0,
      "outputs": []
    },
    {
      "cell_type": "markdown",
      "metadata": {
        "id": "s1sJUTKepIJb",
        "colab_type": "text"
      },
      "source": [
        "# To download music from deezer using d-fi"
      ]
    },
    {
      "cell_type": "code",
      "metadata": {
        "id": "SWnqJBo-Sspi",
        "colab_type": "code",
        "colab": {}
      },
      "source": [
        "from google.colab import drive\n",
        "drive.mount('/content/drive')\n"
      ],
      "execution_count": 0,
      "outputs": []
    },
    {
      "cell_type": "code",
      "metadata": {
        "id": "2mFrIPrIpDHR",
        "colab_type": "code",
        "colab": {}
      },
      "source": [
        "%cd \"/content/\"\n",
        "!pip install eyeD3\n",
        "!apt install parallel\n",
        "!wget https://github.com/d-fi/releases/releases/download/1.3.3/d-fi-linux.zip https://raw.githubusercontent.com/Emfyr/emfyr.github.io/master/strings_without_artist_deezer.py\n",
        "!7z -od-fi x /content/d-fi-linux.zip\n",
        "!chmod +x \"/content/d-fi/d-fi\"\n"
      ],
      "execution_count": 0,
      "outputs": []
    },
    {
      "cell_type": "code",
      "metadata": {
        "id": "tkEIVBx1qnJ1",
        "colab_type": "code",
        "colab": {}
      },
      "source": [
        "#copy the links (albums or artists) you need and paste them below\n",
        "#remember to remove newline below\n",
        "%%bash\n",
        "echo \"paste_all_deezer_links_here\" > /content/d-fi/rando.txt\n",
        "\n",
        "echo \"#!/bin/bash\n",
        "\" > /content/d-fi/script_to_download_albums_simultaneously.sh\n"
      ],
      "execution_count": 0,
      "outputs": []
    },
    {
      "cell_type": "code",
      "metadata": {
        "id": "NcTN9E6pqvIF",
        "colab_type": "code",
        "colab": {}
      },
      "source": [
        "%cd /content/d-fi\n",
        "!python \"/content/strings_without_artist_deezer.py\"\n",
        "!sed -i 's#^#/content/d-fi/d-fi -c 99 #; s/$/ \\&/' \"/content/d-fi/deezer.txt\"\n",
        "!chmod +x \"/content/d-fi/script_to_download_albums_simultaneously.sh\"\n",
        "!cat \"/content/d-fi/deezer.txt\" >> \"/content/d-fi/script_to_download_albums_simultaneously.sh\"\n",
        "\n",
        "!/content/d-fi/script_to_download_albums_simultaneously.sh\n",
        "\n",
        "!find \"/content/d-fi/Music\" -type f ! -iname \"*.*\" -delete\n",
        "\n",
        "!find . -type f -iname \"*.mp3\" -print0 | parallel -0 -j 30 'ffmpeg -n -i {} -an -vcodec copy {//}/cover.jpg'\n",
        "!find \"/content/d-fi/Music\" -iname \"*.mp3\" -print0 | parallel -0 -j 50 'eyeD3 --remove-all-images --remove-all-lyrics {}'\n",
        "!find \"/content/d-fi/Music\" -iname \"*.mp3\" -print0 | parallel -0 -j 10 'ffmpeg -n -i {} -c:a libopus -b:a 192k {.}.opus'\n"
      ],
      "execution_count": 0,
      "outputs": []
    },
    {
      "cell_type": "code",
      "metadata": {
        "id": "XmD8nqz-qxBr",
        "colab_type": "code",
        "colab": {}
      },
      "source": [
        "#Input archive name (below)\n",
        "!7z -v500m -mx0 -mmt4 -pemfyr a \"artist_name\" \"/content/d-fi/Music\"\n",
        "\n",
        "!find -mindepth 1 -maxdepth 1  -name \"*.7z.*\" -print0 | parallel -0 -j 5 'mv \"{}\" -t \"/content/drive/Shared drives/colab2/music/\"'\n",
        "!rm -rf \"/content/d-fi/Music\"\n"
      ],
      "execution_count": 0,
      "outputs": []
    },
    {
      "cell_type": "code",
      "metadata": {
        "id": "-sLFZsmcLZ2q",
        "colab_type": "code",
        "colab": {}
      },
      "source": [
        ""
      ],
      "execution_count": 0,
      "outputs": []
    },
    {
      "cell_type": "code",
      "metadata": {
        "id": "f_lXZiy-LZwB",
        "colab_type": "code",
        "colab": {}
      },
      "source": [
        ""
      ],
      "execution_count": 0,
      "outputs": []
    },
    {
      "cell_type": "code",
      "metadata": {
        "id": "Hd_Hrat_LZn4",
        "colab_type": "code",
        "colab": {}
      },
      "source": [
        ""
      ],
      "execution_count": 0,
      "outputs": []
    },
    {
      "cell_type": "code",
      "metadata": {
        "id": "uKzf1Hz4LZeK",
        "colab_type": "code",
        "colab": {}
      },
      "source": [
        "from google.colab import drive\n",
        "drive.mount('/content/drive')\n"
      ],
      "execution_count": 0,
      "outputs": []
    },
    {
      "cell_type": "code",
      "metadata": {
        "id": "j5dGV5U9OBma",
        "colab_type": "code",
        "colab": {}
      },
      "source": [
        "!pip install coursera-dl\n",
        "\n",
        "!mkdir \"/content/coursera/\"\n",
        "%cd \"/content/coursera/\"\n",
        "\n",
        "#copy just the course-id from url on course on coursera site\n",
        "#if needed, get new cauth from cookies.txt (using the cookie extension in firefox)\n",
        "#use '--specialization' if want to download a whole specialization instead of just one course\n",
        "!coursera-dl --username ayushrwt@gmail.com --password alskdjfhg1 --cauth 2fG_jfNtDy04z1jVK2zDxXOfx1XFF_pSPBiDwu5GAZG1Bo0zpoCW6E5dwIHQr9KJC1_iSwZKu_yP0wV2dOepAQ.bx-fQstQOzZLuUOBBexpUQ.4oytPJOWBFJS_lo1zIUKcvQNIuWa3OfNaudhaQdiCci8CHYxEGOzmefHNMbFao-goylXpqoGtiRkOqVdghCEC0jcs1GgIoh9Mi9DxLEG6GIw_37jEMy4GCHN2cJKApFA0iT767PcsI_tSnHwBklu-E3p9RsB1CvoLEIW9aeD5TsALAewngFDgsjGmVF_W9sb --jobs 80 --subtitle-language en --download-delay 1 --download-notebooks --aria2 --download-quizzes \"course_id\"\n",
        "\n",
        "%cd \"/content/drive/Shared drives/c areer/\"\n",
        "!find \"/content/coursera/\" -mindepth 1 -maxdepth 1 -type d -print0 | parallel -0 -j 10 '7z -v300m -mx0 -mmt4 -pemfyr a {}.7z {}'\n",
        "\n",
        "!rm -rf \"/content/coursera\"\n",
        "\n",
        "\n",
        "# Commented out IPython magic to ensure Python compatibility.\n",
        "# Commented out IPython magic to ensure Python compatibility.\n",
        "# %cd \"/content/drive/Shared drives/colab2/Pron/Pron\"\n",
        "!pip install youtube-dl\n",
        "!apt install parallel\n",
        "\n",
        "%%bash\n",
        "echo \"Paste_all_pron_links_here\" > /content/pron.txt\n",
        "\n",
        "!cat /content/pron.txt | parallel -j 10 'youtube-dl -f 480p -ciw --no-check-certificate -o \"/content/drive/Shared drives/colab2/pron/pronhub/%(title)s-%(id)s.%(ext)s\" --download-archive \"/content/drive/Shared drives/colab2/pron/pron_archive.txt\" {} --external-downloader wget'\n",
        "\n",
        "!youtube-upload\n"
      ],
      "execution_count": 0,
      "outputs": []
    },
    {
      "cell_type": "code",
      "metadata": {
        "id": "074RaxUMPy2g",
        "colab_type": "code",
        "colab": {}
      },
      "source": [
        ""
      ],
      "execution_count": 0,
      "outputs": []
    }
  ]
}