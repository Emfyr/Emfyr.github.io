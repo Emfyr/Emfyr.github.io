{
  "nbformat": 4,
  "nbformat_minor": 0,
  "metadata": {
    "colab": {
      "name": "Colab",
      "provenance": [],
      "toc_visible": true,
      "include_colab_link": true
    },
    "kernelspec": {
      "name": "python3",
      "display_name": "Python 3"
    }
  },
  "cells": [
    {
      "cell_type": "markdown",
      "metadata": {
        "id": "view-in-github",
        "colab_type": "text"
      },
      "source": [
        "<a href=\"https://colab.research.google.com/github/Emfyr/emfyr.github.io/blob/master/Colab.ipynb\" target=\"_parent\"><img src=\"https://colab.research.google.com/assets/colab-badge.svg\" alt=\"Open In Colab\"/></a>"
      ]
    },
    {
      "cell_type": "markdown",
      "metadata": {
        "id": "fbmBqMst8c9W",
        "colab_type": "text"
      },
      "source": [
        "# Change account because \"no gpu backend available\" and sometimes the notebook not opening at all.\n",
        "\n",
        "Also because google throttle."
      ]
    },
    {
      "cell_type": "markdown",
      "metadata": {
        "id": "z7j61MwqNhnw",
        "colab_type": "text"
      },
      "source": [
        "# This will download files (most likely music) from my mega import folder to mega folder in /content/, extract zip,rar,7z files, delete the archive files, convert all flac files to opus, delete flac files, archive them with each single archive being 150mb in the rar folder of /My Drive/\n",
        "\n",
        "Don't forget to change name of the archive.\n",
        "\n",
        "Ond't forget to change directory to /content/mega/ before downloading files form mega."
      ]
    },
    {
      "cell_type": "code",
      "metadata": {
        "id": "6qA3ItfXDlSn",
        "colab_type": "code",
        "colab": {}
      },
      "source": [
        "from google.colab import drive\n",
        "drive.mount('/content/drive')"
      ],
      "execution_count": 0,
      "outputs": []
    },
    {
      "cell_type": "code",
      "metadata": {
        "id": "tUDLEAYGGDr2",
        "colab_type": "code",
        "colab": {}
      },
      "source": [
        "!apt install megatools"
      ],
      "execution_count": 0,
      "outputs": []
    },
    {
      "cell_type": "code",
      "metadata": {
        "id": "IqlzWxAQGLlu",
        "colab_type": "code",
        "colab": {}
      },
      "source": [
        "!apt install opus-tools"
      ],
      "execution_count": 0,
      "outputs": []
    },
    {
      "cell_type": "code",
      "metadata": {
        "id": "GkN0xQrC2ci6",
        "colab_type": "code",
        "colab": {}
      },
      "source": [
        "!mkdir mega"
      ],
      "execution_count": 0,
      "outputs": []
    },
    {
      "cell_type": "code",
      "metadata": {
        "id": "ZDKC5OnEKdwE",
        "colab_type": "code",
        "colab": {}
      },
      "source": [
        "cd \"/content/drive/My Drive/\""
      ],
      "execution_count": 0,
      "outputs": []
    },
    {
      "cell_type": "code",
      "metadata": {
        "id": "1ICIjatW3S3q",
        "colab_type": "code",
        "colab": {}
      },
      "source": [
        "!mkdir rar"
      ],
      "execution_count": 0,
      "outputs": []
    },
    {
      "cell_type": "code",
      "metadata": {
        "id": "WMZHFRtg25jE",
        "colab_type": "code",
        "colab": {}
      },
      "source": [
        "cd \"/content/mega/\""
      ],
      "execution_count": 0,
      "outputs": []
    },
    {
      "cell_type": "code",
      "metadata": {
        "id": "C0P6XT15bWwD",
        "colab_type": "code",
        "colab": {}
      },
      "source": [
        "!megadl https://mega.nz/#F!D9sEUQZQ!nQnGvzTQbXDnSo7P9skQTA"
      ],
      "execution_count": 0,
      "outputs": []
    },
    {
      "cell_type": "code",
      "metadata": {
        "id": "K8mZrDFTSLs8",
        "colab_type": "code",
        "colab": {}
      },
      "source": [
        "!find -name \"*.7z\" -exec bash -c '7z x \"{}\"' {} \\;"
      ],
      "execution_count": 0,
      "outputs": []
    },
    {
      "cell_type": "code",
      "metadata": {
        "id": "xcMhMDaqSOlO",
        "colab_type": "code",
        "colab": {}
      },
      "source": [
        "!find -name \"*.rar\" -exec bash -c '7z x \"{}\"' {} \\;"
      ],
      "execution_count": 0,
      "outputs": []
    },
    {
      "cell_type": "code",
      "metadata": {
        "id": "ISVJ8_fOSR_7",
        "colab_type": "code",
        "colab": {}
      },
      "source": [
        "!find -name \"*.zip\" -exec bash -c '7z x \"{}\"' {} \\;"
      ],
      "execution_count": 0,
      "outputs": []
    },
    {
      "cell_type": "code",
      "metadata": {
        "id": "rViaIaG9Sxmv",
        "colab_type": "code",
        "colab": {}
      },
      "source": [
        "!find . -type f -iname \\*.7z -delete"
      ],
      "execution_count": 0,
      "outputs": []
    },
    {
      "cell_type": "code",
      "metadata": {
        "id": "kzX9ha68S0RZ",
        "colab_type": "code",
        "colab": {}
      },
      "source": [
        "!find . -type f -iname \\*.zip -delete"
      ],
      "execution_count": 0,
      "outputs": []
    },
    {
      "cell_type": "code",
      "metadata": {
        "id": "RGSbnEzjS2Fw",
        "colab_type": "code",
        "colab": {}
      },
      "source": [
        "!find . -type f -iname \\*.rar -delete"
      ],
      "execution_count": 0,
      "outputs": []
    },
    {
      "cell_type": "code",
      "metadata": {
        "id": "JHb4_SiDj3fL",
        "colab_type": "code",
        "colab": {}
      },
      "source": [
        "!find -name \"*.flac\" -exec bash -c 'opusenc --bitrate 192 \"{}\" \"${0/.flac}.opus\"' {} \\;"
      ],
      "execution_count": 0,
      "outputs": []
    },
    {
      "cell_type": "code",
      "metadata": {
        "id": "qSEafUe5n6h5",
        "colab_type": "code",
        "colab": {}
      },
      "source": [
        "!find . -type f -iname \\*.flac -delete"
      ],
      "execution_count": 0,
      "outputs": []
    },
    {
      "cell_type": "code",
      "metadata": {
        "colab_type": "code",
        "id": "yHqJ19dt5cyA",
        "colab": {}
      },
      "source": [
        "cd \"/content/drive/My Drive/rar/\""
      ],
      "execution_count": 0,
      "outputs": []
    },
    {
      "cell_type": "code",
      "metadata": {
        "id": "z2G8IkAJ5hZP",
        "colab_type": "code",
        "colab": {}
      },
      "source": [
        "!7z -v150m -mx1 -mmt40 a \"the album name\" \"/content/mega/\""
      ],
      "execution_count": 0,
      "outputs": []
    },
    {
      "cell_type": "code",
      "metadata": {
        "id": "H3TwyD9zHSYY",
        "colab_type": "code",
        "colab": {}
      },
      "source": [
        "cd \"/content/\""
      ],
      "execution_count": 0,
      "outputs": []
    },
    {
      "cell_type": "code",
      "metadata": {
        "id": "jk0F_qF9Waf0",
        "colab_type": "code",
        "colab": {}
      },
      "source": [
        "!rm -r ./mega/"
      ],
      "execution_count": 0,
      "outputs": []
    },
    {
      "cell_type": "markdown",
      "metadata": {
        "id": "hPq6yivSPcif",
        "colab_type": "text"
      },
      "source": [
        "# This download manga to /My Drive/ this time (because I am afraid they will get lost in /content/), move to /content/Manga/, then archive them into group of 150mb each file (directly saving them into /My Drive/).\n",
        "\n",
        "Don't forget to change the archive name.\n",
        "\n",
        "If downloading from mangadex, always use\n",
        "    \n",
        "    --chapter-filter \"lang == 'en'\" "
      ]
    },
    {
      "cell_type": "code",
      "metadata": {
        "id": "nS7VWM4YtnXt",
        "colab_type": "code",
        "colab": {}
      },
      "source": [
        "from google.colab import drive\n",
        "drive.mount('/content/drive')"
      ],
      "execution_count": 0,
      "outputs": []
    },
    {
      "cell_type": "code",
      "metadata": {
        "id": "VySQlHNgt9eN",
        "colab_type": "code",
        "colab": {}
      },
      "source": [
        "cd \"/content/drive/My Drive/\""
      ],
      "execution_count": 0,
      "outputs": []
    },
    {
      "cell_type": "code",
      "metadata": {
        "id": "GfzzrAH5t-71",
        "colab_type": "code",
        "colab": {}
      },
      "source": [
        "!pip install gallery-dl"
      ],
      "execution_count": 0,
      "outputs": []
    },
    {
      "cell_type": "code",
      "metadata": {
        "id": "PrQFnuICuIUd",
        "colab_type": "code",
        "colab": {}
      },
      "source": [
        "!gallery-dl \"Link\""
      ],
      "execution_count": 0,
      "outputs": []
    },
    {
      "cell_type": "code",
      "metadata": {
        "id": "rS-2zWHFRNx0",
        "colab_type": "code",
        "colab": {}
      },
      "source": [
        "cd \"/content/\""
      ],
      "execution_count": 0,
      "outputs": []
    },
    {
      "cell_type": "code",
      "metadata": {
        "id": "KFeam7VYRSSu",
        "colab_type": "code",
        "colab": {}
      },
      "source": [
        "!mkdir Manga"
      ],
      "execution_count": 0,
      "outputs": []
    },
    {
      "cell_type": "code",
      "metadata": {
        "id": "Lt9U8IWGREwC",
        "colab_type": "code",
        "colab": {}
      },
      "source": [
        "!mv \"/content/drive/My Drive/gallery-dl/\" \"/content/Manga/\""
      ],
      "execution_count": 0,
      "outputs": []
    },
    {
      "cell_type": "code",
      "metadata": {
        "id": "NP_ouDRSd9Yw",
        "colab_type": "code",
        "colab": {}
      },
      "source": [
        "cd \"/content/drive/My Drive/\""
      ],
      "execution_count": 0,
      "outputs": []
    },
    {
      "cell_type": "code",
      "metadata": {
        "id": "7qHJBoGReHxb",
        "colab_type": "code",
        "colab": {}
      },
      "source": [
        "!mkdir ./manga/"
      ],
      "execution_count": 0,
      "outputs": []
    },
    {
      "cell_type": "code",
      "metadata": {
        "id": "waQBaXwDeTNT",
        "colab_type": "code",
        "colab": {}
      },
      "source": [
        "cd \"/content/drive/My Drive/manga\""
      ],
      "execution_count": 0,
      "outputs": []
    },
    {
      "cell_type": "code",
      "metadata": {
        "id": "qzbtd9wtxhG8",
        "colab_type": "code",
        "colab": {}
      },
      "source": [
        "!7z -v150m a \"name_of_manga\" \"/content/Manga/\""
      ],
      "execution_count": 0,
      "outputs": []
    },
    {
      "cell_type": "code",
      "metadata": {
        "id": "HmA54LvYXXN6",
        "colab_type": "code",
        "colab": {}
      },
      "source": [
        "!rm -r \"/content/Manga/\""
      ],
      "execution_count": 0,
      "outputs": []
    },
    {
      "cell_type": "code",
      "metadata": {
        "id": "lH2Lu4zaRlsK",
        "colab_type": "code",
        "colab": {}
      },
      "source": [
        "cd \"/content/drive/My Drive/\""
      ],
      "execution_count": 0,
      "outputs": []
    },
    {
      "cell_type": "markdown",
      "metadata": {
        "id": "Ku5MgBnPSkMB",
        "colab_type": "text"
      },
      "source": [
        "# This will download a torrent content to /My Drive/Torrent/ [THANKS TO FKLC]\n",
        "\n",
        "Have resume support too :)\n",
        "If a torrent is too big, it may not show progress bar. Stop the execution of the progess showing cell and rerun the cell (the last cell). It will show prgress bar now.\n",
        "[EDIT: I was retarded. I have to wait for TORRENT folder to show up before executing the last cell.]\n",
        "\n",
        "If lossless music, thenexecute the first section one you know (Modify a little).\n",
        "\n",
        "GPU acceleration for 384GB space.\n",
        "\n",
        "If torrent contents are huge, then MOVE some contents to /My Drive/, open gdrive, get sharable link, import the incomplete contents to other gdrive, open new notebook, 7z the shit out of that, delete folder from the 1st gdrive and repeat the process."
      ]
    },
    {
      "cell_type": "code",
      "metadata": {
        "colab_type": "code",
        "id": "m6hF0emftx4h",
        "colab": {}
      },
      "source": [
        "!apt install python3-libtorrent\n",
        "\n",
        "import libtorrent as lt\n",
        "\n",
        "ses = lt.session()\n",
        "ses.listen_on(6881, 6891)\n",
        "downloads = []"
      ],
      "execution_count": 0,
      "outputs": []
    },
    {
      "cell_type": "code",
      "metadata": {
        "colab_type": "code",
        "id": "oWM9l2fvtuvO",
        "colab": {}
      },
      "source": [
        "from google.colab import drive\n",
        "\n",
        "drive.mount(\"/content/drive\")"
      ],
      "execution_count": 0,
      "outputs": []
    },
    {
      "cell_type": "code",
      "metadata": {
        "colab_type": "code",
        "id": "0et2A6N3udA0",
        "colab": {}
      },
      "source": [
        "from google.colab import files\n",
        "\n",
        "source = files.upload()\n",
        "params = {\n",
        "    \"save_path\": \"/content/Torrent\",\n",
        "    \"ti\": lt.torrent_info(list(source.keys())[0]),\n",
        "}\n",
        "downloads.append(ses.add_torrent(params))"
      ],
      "execution_count": 0,
      "outputs": []
    },
    {
      "cell_type": "code",
      "metadata": {
        "id": "Cwi1GMlxy3te",
        "colab_type": "code",
        "colab": {}
      },
      "source": [
        "params = {\"save_path\": \"/content/Torrent\"}\n",
        "\n",
        "while True:\n",
        "    magnet_link = input(\"Enter Magnet Link Or Type Exit: \")\n",
        "    if magnet_link.lower() == \"exit\":\n",
        "        break\n",
        "    downloads.append(\n",
        "        lt.add_magnet_uri(ses, magnet_link, params)\n",
        "    )\n"
      ],
      "execution_count": 0,
      "outputs": []
    },
    {
      "cell_type": "code",
      "metadata": {
        "colab_type": "code",
        "id": "DBNoYYoSuDBT",
        "colab": {}
      },
      "source": [
        "import time\n",
        "from IPython.display import display\n",
        "import ipywidgets as widgets\n",
        "\n",
        "state_str = [\n",
        "    \"queued\",\n",
        "    \"checking\",\n",
        "    \"downloading metadata\",\n",
        "    \"downloading\",\n",
        "    \"finished\",\n",
        "    \"seeding\",\n",
        "    \"allocating\",\n",
        "    \"checking fastresume\",\n",
        "]\n",
        "\n",
        "layout = widgets.Layout(width=\"auto\")\n",
        "style = {\"description_width\": \"initial\"}\n",
        "download_bars = [\n",
        "    widgets.FloatSlider(\n",
        "        step=0.01, disabled=True, layout=layout, style=style\n",
        "    )\n",
        "    for _ in downloads\n",
        "]\n",
        "display(*download_bars)\n",
        "\n",
        "while downloads:\n",
        "    next_shift = 0\n",
        "    for index, download in enumerate(downloads[:]):\n",
        "        bar = download_bars[index + next_shift]\n",
        "        if not download.is_seed():\n",
        "            s = download.status()\n",
        "\n",
        "            bar.description = \" \".join(\n",
        "                [\n",
        "                    download.name(),\n",
        "                    str(s.download_rate / 1000),\n",
        "                    \"kB/s\",\n",
        "                    state_str[s.state],\n",
        "                ]\n",
        "            )\n",
        "            bar.value = s.progress * 100\n",
        "        else:\n",
        "            next_shift -= 1\n",
        "            ses.remove_torrent(download)\n",
        "            downloads.remove(download)\n",
        "            bar.close() # Seems to be not working in Colab (see https://github.com/googlecolab/colabtools/issues/726#issue-486731758)\n",
        "            download_bars.remove(bar)\n",
        "            print(download.name(), \"complete\")\n",
        "    time.sleep(1)\n"
      ],
      "execution_count": 0,
      "outputs": []
    }
  ]
}