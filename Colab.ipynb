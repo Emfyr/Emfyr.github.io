{
  "nbformat": 4,
  "nbformat_minor": 0,
  "metadata": {
    "colab": {
      "name": "Colab.ipynb",
      "provenance": [],
      "toc_visible": true,
      "include_colab_link": true
    },
    "kernelspec": {
      "name": "python3",
      "display_name": "Python 3"
    }
  },
  "cells": [
    {
      "cell_type": "markdown",
      "metadata": {
        "id": "view-in-github",
        "colab_type": "text"
      },
      "source": [
        "<a href=\"https://colab.research.google.com/github/Emfyr/emfyr.github.io/blob/master/Colab.ipynb\" target=\"_parent\"><img src=\"https://colab.research.google.com/assets/colab-badge.svg\" alt=\"Open In Colab\"/></a>"
      ]
    },
    {
      "cell_type": "markdown",
      "metadata": {
        "id": "fbmBqMst8c9W",
        "colab_type": "text"
      },
      "source": [
        "# Change account because \"no gpu backend available\" and sometimes the notebook not opening at all.\n",
        "\n",
        "Also because google throttle."
      ]
    },
    {
      "cell_type": "markdown",
      "metadata": {
        "id": "z7j61MwqNhnw",
        "colab_type": "text"
      },
      "source": [
        "# This will download files (most likely music) from my mega import folder to mega folder in /content/, extract zip,rar,7z files, delete the archive files, convert all flac files to opus, delete flac files, archive them with each single archive being 200mb in the rar folder of /My Drive/\n",
        "\n",
        "Don't forget to change name of the archive.\n",
        "\n",
        "Ond't forget to change directory to /content/mega/ before downloading files form mega."
      ]
    },
    {
      "cell_type": "code",
      "metadata": {
        "id": "6qA3ItfXDlSn",
        "colab_type": "code",
        "colab": {}
      },
      "source": [
        "from google.colab import drive\n",
        "drive.mount('/content/drive')"
      ],
      "execution_count": 0,
      "outputs": []
    },
    {
      "cell_type": "code",
      "metadata": {
        "id": "kL2cXW21Gk0v",
        "colab_type": "code",
        "colab": {}
      },
      "source": [
        "!apt install megatools\n",
        "!apt install opus-tools\n",
        "!apt install imagemagick\n",
        "!mkdir mega\n",
        "%cd \"/content/drive/My Drive/\"\n",
        "!mkdir rar\n",
        "%cd \"/content/mega/\"\n",
        "!megadl https://mega.nz/#F!mkd2haiZ!ytWf32-HZWBxNWrnoFjXhg\n",
        "!find -name \"*.7z\" -exec bash -c '7z -o* x \"{}\"' {} \\;\n",
        "!find -name \"*.rar\" -exec bash -c '7z -o* x \"{}\"' {} \\;\n",
        "!find -name \"*.zip\" -exec bash -c '7z -o* x \"{}\"' {} \\;\n",
        "!find . -type f -iname \\*.7z -delete\n",
        "!find . -type f -iname \\*.zip -delete\n",
        "!find . -type f -iname \\*.rar -delete\n",
        "!find -name \"*.png\" -exec bash -c 'convert \"{}\" -quality 90 \"${0/.png}.jpg\"' {} \\;\n",
        "!find -name \"*.flac\" -exec bash -c 'opusenc --discard-pictures --bitrate 192 \"{}\" \"${0/.flac}.opus\"' {} \\;\n",
        "!find . -type f -iname \\*.flac -delete\n",
        "%cd \"/content/drive/My Drive/rar/\"\n",
        "!7z -v200m -mx1 -mmt40 a \"album_name\" \"/content/mega/\"\n",
        "%cd \"/content/\"\n",
        "!rm -r ./mega/"
      ],
      "execution_count": 0,
      "outputs": []
    },
    {
      "cell_type": "markdown",
      "metadata": {
        "id": "hPq6yivSPcif",
        "colab_type": "text"
      },
      "source": [
        "# This download manga to /My Drive/ this time (because I am afraid they will get lost in /content/), move to /content/Manga/, then archive them into group of 200mb each file (directly saving them into /My Drive/).\n",
        "\n",
        "Don't forget to change the archive name.\n",
        "\n",
        "If downloading from mangadex, always use\n",
        "    \n",
        "    --chapter-filter \"lang == 'en'\" "
      ]
    },
    {
      "cell_type": "code",
      "metadata": {
        "id": "V4Z5ZyViXBI4",
        "colab_type": "code",
        "colab": {}
      },
      "source": [
        "from google.colab import drive\n",
        "drive.mount('/content/drive')"
      ],
      "execution_count": 0,
      "outputs": []
    },
    {
      "cell_type": "code",
      "metadata": {
        "id": "jctQg-GOHD4Y",
        "colab_type": "code",
        "colab": {}
      },
      "source": [
        "%cd \"/content/drive/My Drive/\"\n",
        "!pip install gallery-dl\n",
        "!gallery-dl \"Link\"\n",
        "%cd \"/content/\"\n",
        "!mkdir Manga\n",
        "!mv \"/content/drive/My Drive/gallery-dl/\" \"/content/Manga/\"\n",
        "%cd \"/content/drive/My Drive/\"\n",
        "!mkdir ./manga/\n",
        "%cd \"/content/drive/My Drive/manga\"\n",
        "!7z -v200m -mx1 -mmt40 a \"name_of_manga\" \"/content/Manga/\"\n",
        "!rm -r \"/content/Manga/\"\n",
        "%cd \"/content/drive/My Drive/\""
      ],
      "execution_count": 0,
      "outputs": []
    },
    {
      "cell_type": "markdown",
      "metadata": {
        "id": "Ku5MgBnPSkMB",
        "colab_type": "text"
      },
      "source": [
        "# [METHOD: 1] (Inefficient method) (Thanks to FKLC anyway for introducing me to colab) This will download a torrent content to /My Drive/Torrent/ [THANKS TO FKLC]\n",
        "\n",
        "Use when..... well I would know :)\n",
        "Have resume support too :)\n",
        "If a torrent is too big, it may not show progress bar. Stop the execution of the progess showing cell and rerun the cell (the last cell). It will show prgress bar now.\n",
        "[EDIT: I was retarded. I have to wait for TORRENT folder to show up before executing the last cell.]\n",
        "\n",
        "If lossless music, thenexecute the first section one you know (Modify a little).\n",
        "\n",
        "GPU acceleration for 384GB space.\n",
        "\n",
        "If torrent contents are huge, then MOVE some contents to /My Drive/, open gdrive, get sharable link, import the incomplete contents to other gdrive, open new notebook, 7z the shit out of that, delete folder from the 1st gdrive and repeat the process."
      ]
    },
    {
      "cell_type": "code",
      "metadata": {
        "colab_type": "code",
        "id": "m6hF0emftx4h",
        "colab": {}
      },
      "source": [
        "!apt install python3-libtorrent\n",
        "\n",
        "import libtorrent as lt\n",
        "\n",
        "ses = lt.session()\n",
        "ses.listen_on(6881, 6891)\n",
        "downloads = []"
      ],
      "execution_count": 0,
      "outputs": []
    },
    {
      "cell_type": "code",
      "metadata": {
        "colab_type": "code",
        "id": "oWM9l2fvtuvO",
        "colab": {}
      },
      "source": [
        "from google.colab import drive\n",
        "\n",
        "drive.mount(\"/content/drive\")"
      ],
      "execution_count": 0,
      "outputs": []
    },
    {
      "cell_type": "code",
      "metadata": {
        "colab_type": "code",
        "id": "0et2A6N3udA0",
        "colab": {}
      },
      "source": [
        "from google.colab import files\n",
        "\n",
        "source = files.upload()\n",
        "params = {\n",
        "    \"save_path\": \"/content/drive/My Drive/Torrent\",\n",
        "    \"ti\": lt.torrent_info(list(source.keys())[0]),\n",
        "}\n",
        "downloads.append(ses.add_torrent(params))"
      ],
      "execution_count": 0,
      "outputs": []
    },
    {
      "cell_type": "code",
      "metadata": {
        "id": "Cwi1GMlxy3te",
        "colab_type": "code",
        "colab": {}
      },
      "source": [
        "params = {\"save_path\": \"/content/drive/My Drive/Torrent\"}\n",
        "\n",
        "while True:\n",
        "    magnet_link = input(\"Enter Magnet Link Or Type Exit: \")\n",
        "    if magnet_link.lower() == \"exit\":\n",
        "        break\n",
        "    downloads.append(\n",
        "        lt.add_magnet_uri(ses, magnet_link, params)\n",
        "    )\n"
      ],
      "execution_count": 0,
      "outputs": []
    },
    {
      "cell_type": "code",
      "metadata": {
        "colab_type": "code",
        "id": "DBNoYYoSuDBT",
        "colab": {}
      },
      "source": [
        "import time\n",
        "from IPython.display import display\n",
        "import ipywidgets as widgets\n",
        "\n",
        "state_str = [\n",
        "    \"queued\",\n",
        "    \"checking\",\n",
        "    \"downloading metadata\",\n",
        "    \"downloading\",\n",
        "    \"finished\",\n",
        "    \"seeding\",\n",
        "    \"allocating\",\n",
        "    \"checking fastresume\",\n",
        "]\n",
        "\n",
        "layout = widgets.Layout(width=\"auto\")\n",
        "style = {\"description_width\": \"initial\"}\n",
        "download_bars = [\n",
        "    widgets.FloatSlider(\n",
        "        step=0.01, disabled=True, layout=layout, style=style\n",
        "    )\n",
        "    for _ in downloads\n",
        "]\n",
        "display(*download_bars)\n",
        "\n",
        "while downloads:\n",
        "    next_shift = 0\n",
        "    for index, download in enumerate(downloads[:]):\n",
        "        bar = download_bars[index + next_shift]\n",
        "        if not download.is_seed():\n",
        "            s = download.status()\n",
        "\n",
        "            bar.description = \" \".join(\n",
        "                [\n",
        "                    download.name(),\n",
        "                    str(s.download_rate / 1000),\n",
        "                    \"kB/s\",\n",
        "                    state_str[s.state],\n",
        "                ]\n",
        "            )\n",
        "            bar.value = s.progress * 100\n",
        "        else:\n",
        "            next_shift -= 1\n",
        "            ses.remove_torrent(download)\n",
        "            downloads.remove(download)\n",
        "            bar.close() # Seems to be not working in Colab (see https://github.com/googlecolab/colabtools/issues/726#issue-486731758)\n",
        "            download_bars.remove(bar)\n",
        "            print(download.name(), \"complete\")\n",
        "    time.sleep(1)\n"
      ],
      "execution_count": 0,
      "outputs": []
    },
    {
      "cell_type": "markdown",
      "metadata": {
        "id": "F31-W1lwNA8t",
        "colab_type": "text"
      },
      "source": [
        "# [METHOD: 2] (My own method) Download to /content/drive/My Drive/Torrent\n",
        "\n",
        "\n",
        "-This is important. If link is a magnet link, always use\n",
        "\n",
        "    -d \"output directory\"\n",
        "    \n",
        "-Use \n",
        "\n",
        "    -T file.torrent\n",
        "\n",
        "if the file is?? Can you guess what?? A torrrent file. Bet you were surprised.\n",
        "\n",
        "\n",
        "-Following only work if file is torrent. (This show files in torrent. Use to get number which can then be put in --select-file argument.)\n",
        "\n",
        "    -S\n",
        "\n",
        "\n",
        "-This would well slect files to download\n",
        "\n",
        "    --select-file=x-y,z,a-b \n",
        "\n",
        "\n",
        "\n",
        "\n",
        "\n",
        "\n",
        "..\n",
        "\n",
        "..\n",
        "\n",
        "..\n",
        "\n",
        "..\n",
        "\n",
        "..\n",
        "\n",
        "..\n",
        "\n",
        "..\n",
        "\n",
        "..\n",
        "\n",
        "..\n",
        "\n",
        "..\n"
      ]
    },
    {
      "cell_type": "code",
      "metadata": {
        "colab_type": "code",
        "id": "ZQYzLBMgcdFP",
        "colab": {}
      },
      "source": [
        "from google.colab import drive\n",
        "drive.mount('/content/drive')"
      ],
      "execution_count": 0,
      "outputs": []
    },
    {
      "cell_type": "code",
      "metadata": {
        "id": "x3gr52KxcYiF",
        "colab_type": "code",
        "colab": {}
      },
      "source": [
        "!apt install aria2"
      ],
      "execution_count": 0,
      "outputs": []
    },
    {
      "cell_type": "code",
      "metadata": {
        "id": "RPm-BWoKOWJ3",
        "colab_type": "code",
        "colab": {}
      },
      "source": [
        "!aria2c --max-connection-per-server=16 --split=16 --seed-time=0 --download-result=full --auto-save-interval=20 --bt-max-open-files=10000 --bt-max-peers=0 --save-session-interval=20 \"magnet link\""
      ],
      "execution_count": 0,
      "outputs": []
    },
    {
      "cell_type": "markdown",
      "metadata": {
        "id": "sCn6VHLfnOyG",
        "colab_type": "text"
      },
      "source": [
        "#Use this after downloading \"audio torrents\", to convert to opus, and then archive."
      ]
    },
    {
      "cell_type": "code",
      "metadata": {
        "id": "LfkiXyLan1AD",
        "colab_type": "code",
        "colab": {}
      },
      "source": [
        "!apt install megatools\n",
        "!apt install opus-tools\n",
        "!apt install imagemagick\n",
        "\n",
        "!find -name \"*.7z\" -exec bash -c '7z -o* x \"{}\"' {} \\;\n",
        "!find -name \"*.rar\" -exec bash -c '7z -o* x \"{}\"' {} \\;\n",
        "!find -name \"*.zip\" -exec bash -c '7z -o* x \"{}\"' {} \\;\n",
        "!find . -type f -iname \\*.7z -delete\n",
        "!find . -type f -iname \\*.zip -delete\n",
        "!find . -type f -iname \\*.rar -delete\n",
        "\n",
        "!find -name \"*.png\" -exec bash -c 'convert \"{}\" -quality 90 \"${0/.png}.jpg\"' {} \\;\n",
        "!find -name \"*.flac\" -exec bash -c 'opusenc --discard-pictures --bitrate 192 \"{}\" \"${0/.flac}.opus\"' {} \\;\n",
        "!find . -type f -iname \\*.flac -delete"
      ],
      "execution_count": 0,
      "outputs": []
    },
    {
      "cell_type": "code",
      "metadata": {
        "id": "dmEfW5gPpAjG",
        "colab_type": "code",
        "colab": {}
      },
      "source": [
        "%cd \"/content/drive/My Drive/rar/\"\n",
        "!7z -v200m -mx1 -mmt40 a \"album_name\" \"/content/mega/\"\n",
        "%cd \"/content/\""
      ],
      "execution_count": 0,
      "outputs": []
    }
  ]
}
