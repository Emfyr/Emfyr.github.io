{
  "nbformat": 4,
  "nbformat_minor": 0,
  "metadata": {
    "colab": {
      "name": "Colab.ipynb",
      "provenance": [],
      "toc_visible": true,
      "include_colab_link": true
    },
    "kernelspec": {
      "name": "python3",
      "display_name": "Python 3"
    }
  },
  "cells": [
    {
      "cell_type": "markdown",
      "metadata": {
        "id": "view-in-github",
        "colab_type": "text"
      },
      "source": [
        "<a href=\"https://colab.research.google.com/github/Emfyr/emfyr.github.io/blob/master/Colab.ipynb\" target=\"_parent\"><img src=\"https://colab.research.google.com/assets/colab-badge.svg\" alt=\"Open In Colab\"/></a>"
      ]
    },
    {
      "cell_type": "markdown",
      "metadata": {
        "id": "z7j61MwqNhnw",
        "colab_type": "text"
      },
      "source": [
        "# This will download files (most likely music) from my mega import folder to mega folder in /content/, extract zip,rar,7z files, delete the archive files, convert png to jpg, convert all flac,aiff,wav files to opus, delete png,flac,aiff,wav files, archive them with each single archive being 300mb in the rar folder of /My Drive/\n",
        "\n",
        "Don't forget to change name of the archive.\n",
        "\n",
        "Don't forget to change directory to /content/mega/ before downloading files form mega.\n",
        "\n",
        "Use \"-p'your_password'\" in 7z command if file is password protected."
      ]
    },
    {
      "cell_type": "code",
      "metadata": {
        "id": "6qA3ItfXDlSn",
        "colab_type": "code",
        "colab": {}
      },
      "source": [
        "from google.colab import drive\n",
        "drive.mount('/content/drive')"
      ],
      "execution_count": 0,
      "outputs": []
    },
    {
      "cell_type": "code",
      "metadata": {
        "id": "Dd2DNbaKhuPC",
        "colab_type": "code",
        "colab": {}
      },
      "source": [
        "%cd \"/content/\"\n",
        "\n",
        "!curl https://rclone.org/install.sh | sudo bash -s beta\n",
        "!apt install opus-tools\n",
        "!apt install imagemagick\n",
        "!wget https://raw.githubusercontent.com/Emfyr/emfyr.github.io/master/rclone.conf\n",
        "!wget https://raw.githubusercontent.com/Emfyr/emfyr.github.io/master/exclude.txt\n",
        "\n",
        "!mkdir \"/root/.config/rclone/\"\n",
        "!mv \"/content/rclone.conf\" \"/root/.config/rclone/\"\n"
      ],
      "execution_count": 0,
      "outputs": []
    },
    {
      "cell_type": "code",
      "metadata": {
        "id": "Dd2DNbaKsOjE",
        "colab_type": "code",
        "colab": {}
      },
      "source": [
        "%cd \"/content/\"\n",
        "!rclone move --checkers=10 --multi-thread-cutoff=10M --multi-thread-streams=10 --retries=10 --use-mmap --buffer-size=2000M --exclude-from=/content/exclude.txt --mega-hard-delete --transfers=10 \"mega:a\" \"/content/mega/\"\n"
      ],
      "execution_count": 0,
      "outputs": []
    },
    {
      "cell_type": "code",
      "metadata": {
        "id": "CFsXE1wx19eu",
        "colab_type": "code",
        "colab": {}
      },
      "source": [
        "%cd \"/content/mega/\"\n",
        "!mkdir \"/content/drive/My Drive/rar/\"\n",
        "\n",
        "!find -name \"*.zip\" -exec bash -c '7z -o\"${0/.zip}\" x \"{}\"' {} \\;\n",
        "!find -name \"*.rar\" -exec bash -c '7z -o\"${0/.rar}\" x \"{}\"' {} \\;\n",
        "!find -name \"*.7z\" -exec bash -c '7z -o\"${0/.7z}\" x \"{}\"' {} \\;\n",
        "\n",
        "\n",
        "!find . -type f -iname \\*.7z -delete\n",
        "!find . -type f -iname \\*.zip -delete\n",
        "!find . -type f -iname \\*.rar -delete\n",
        "\n",
        "!find -name \"*.png\" -exec bash -c 'convert \"{}\" -quality 90 \"${0/.png}.jpg\"' {} \\;\n",
        "!find -name \"*.flac\" -exec bash -c 'opusenc --discard-pictures --bitrate 192 \"{}\" \"${0/.flac}.opus\"' {} \\;\n",
        "!find -name \"*.flac\" -exec bash -c 'ffmpeg -n -i \"{}\" -c:a libopus -b:a 192k \"${0/.flac}.opus\"' {} \\;\n",
        "!find -name \"*.aiff\" -exec bash -c 'opusenc --discard-pictures --bitrate 192 \"{}\" \"${0/.aiff}.opus\"' {} \\;\n",
        "!find -name \"*.aiff\" -exec bash -c 'ffmpeg -n -i \"{}\" -c:a libopus -b:a 192k \"${0/.aiff}.opus\"' {} \\;\n",
        "!find -name \"*.wav\" -exec bash -c 'opusenc --discard-pictures --bitrate 192 \"{}\" \"${0/.wav}.opus\"' {} \\;\n",
        "!find -name \"*.wav\" -exec bash -c 'ffmpeg -n -i \"{}\" -c:a libopus -b:a 192k \"${0/.wav}.opus\"' {} \\;\n",
        "\n",
        "!find . -type f -iname \\*.png -delete\n",
        "!find . -type f -iname \\*.flac -delete\n",
        "!find . -type f -iname \\*.aiff -delete\n",
        "!find . -type f -iname \\*.wav -delete\n"
      ],
      "execution_count": 0,
      "outputs": []
    },
    {
      "cell_type": "code",
      "metadata": {
        "id": "TfTfN6AVinHg",
        "colab_type": "code",
        "colab": {}
      },
      "source": [
        "%cd \"/content/drive/My Drive/rar/\"\n",
        "!7z -v300m -mx1 -mmt4 -pemfyr a \"album_name\" \"/content/mega/\"\n",
        "%cd \"/content/\"\n"
      ],
      "execution_count": 0,
      "outputs": []
    },
    {
      "cell_type": "code",
      "metadata": {
        "id": "TfTfN6AVmofo",
        "colab_type": "code",
        "colab": {}
      },
      "source": [
        "!rm -rf \"/content/mega/\"\n"
      ],
      "execution_count": 0,
      "outputs": []
    },
    {
      "cell_type": "markdown",
      "metadata": {
        "id": "hPq6yivSPcif",
        "colab_type": "text"
      },
      "source": [
        "# This download manga to \"/content\", then archive them into group of 300MB each file (directly saving them into /My Drive/).\n",
        "\n",
        "Don't forget to change the archive name.\n",
        "\n",
        "If downloading from mangadex, always use\n",
        "    \n",
        "    --chapter-filter \"lang == 'en'\" "
      ]
    },
    {
      "cell_type": "code",
      "metadata": {
        "id": "V4Z5ZyViXBI4",
        "colab_type": "code",
        "colab": {}
      },
      "source": [
        "from google.colab import drive\n",
        "drive.mount('/content/drive')"
      ],
      "execution_count": 0,
      "outputs": []
    },
    {
      "cell_type": "code",
      "metadata": {
        "id": "kc964u1xiYHV",
        "colab_type": "code",
        "colab": {}
      },
      "source": [
        "!pip install gallery-dl\n"
      ],
      "execution_count": 0,
      "outputs": []
    },
    {
      "cell_type": "code",
      "metadata": {
        "id": "jctQg-GOHD4Y",
        "colab_type": "code",
        "colab": {}
      },
      "source": [
        "%cd \"/content/\"\n",
        "\n",
        "!gallery-dl \"Link\"\n",
        "\n",
        "!mkdir \"/content/drive/My Drive/Manga/\"\n",
        "%cd \"/content/gallery-dl/\"\n",
        "!find . -maxdepth 2 -mindepth 2 -type d -exec bash -c '7z -v300m -mmt4 -pemfyr a \"{}\" \"{}\"' {} \\;\n",
        "!find -name \"*.7z.*\" -exec bash -c 'mv \"{}\" \"/content/drive/My Drive/Manga/\"' {} \\;\n"
      ],
      "execution_count": 0,
      "outputs": []
    },
    {
      "cell_type": "code",
      "metadata": {
        "id": "IDuNFee4jk3g",
        "colab_type": "code",
        "colab": {}
      },
      "source": [
        "%cd \"/content/\"\n",
        "!rm -rf \"/content/gallery-dl/\"\n"
      ],
      "execution_count": 0,
      "outputs": []
    },
    {
      "cell_type": "code",
      "metadata": {
        "id": "jag08ffSj-sW",
        "colab_type": "code",
        "colab": {}
      },
      "source": [
        "                                                   OR"
      ],
      "execution_count": 0,
      "outputs": []
    },
    {
      "cell_type": "code",
      "metadata": {
        "id": "FTNFMwy27Di2",
        "colab_type": "code",
        "colab": {}
      },
      "source": [
        "from google.colab import drive\n",
        "drive.mount('/content/drive')"
      ],
      "execution_count": 0,
      "outputs": []
    },
    {
      "cell_type": "code",
      "metadata": {
        "id": "ewXtuYJPjmrh",
        "colab_type": "code",
        "colab": {}
      },
      "source": [
        "!pip install manga-py\n"
      ],
      "execution_count": 0,
      "outputs": []
    },
    {
      "cell_type": "code",
      "metadata": {
        "id": "7Hbu0MVSj-0S",
        "colab_type": "code",
        "colab": {}
      },
      "source": [
        "%cd \"/content/\"\n",
        "\n",
        "!manga-py -t 30 -f --no-progress \"Link\"\n",
        "\n",
        "!mkdir \"/content/drive/My Drive/Manga/\"\n",
        "%cd \"/content/Manga/\"\n",
        "!find . -mindepth 1 -maxdepth 1 -type d -exec bash -c '7z -v300m -mx1 -mmt4 -pemfyr a \"{}\" \"{}\"' {} \\;\n",
        "!find -name \"*.7z.*\" -exec bash -c 'mv \"{}\" \"/content/drive/My Drive/Manga/\"' {} \\;\n"
      ],
      "execution_count": 0,
      "outputs": []
    },
    {
      "cell_type": "code",
      "metadata": {
        "id": "nG7Jv7aAu6fe",
        "colab_type": "code",
        "colab": {}
      },
      "source": [
        "%cd \"/content/\"\n",
        "!rm -rf \"/content/Manga/\"\n"
      ],
      "execution_count": 0,
      "outputs": []
    },
    {
      "cell_type": "markdown",
      "metadata": {
        "id": "F31-W1lwNA8t",
        "colab_type": "text"
      },
      "source": [
        "# Download torrent to wherever you want (-d)\n",
        "\n",
        "\n",
        "-This is important. If link is a magnet link, use      -d \"output directory\"\n",
        "    \n",
        "-Use for torrent file    -T file.torrent\n",
        "\n",
        "-Following only work if file is torrent (To show files)   -S\n",
        "\n",
        "\n",
        "-This would well slect files to download\n",
        "\n",
        "    --select-file=x-y,z,a-b \n",
        "\n"
      ]
    },
    {
      "cell_type": "code",
      "metadata": {
        "colab_type": "code",
        "id": "ZQYzLBMgcdFP",
        "colab": {}
      },
      "source": [
        "from google.colab import drive\n",
        "drive.mount('/content/drive')"
      ],
      "execution_count": 0,
      "outputs": []
    },
    {
      "cell_type": "code",
      "metadata": {
        "id": "x3gr52KxcYiF",
        "colab_type": "code",
        "colab": {}
      },
      "source": [
        "!apt install aria2"
      ],
      "execution_count": 0,
      "outputs": []
    },
    {
      "cell_type": "code",
      "metadata": {
        "id": "RPm-BWoKOWJ3",
        "colab_type": "code",
        "colab": {}
      },
      "source": [
        "!aria2c --max-connection-per-server=16 --split=16 --seed-time=0 --download-result=full --auto-save-interval=20 --bt-max-open-files=10000 --bt-max-peers=0 --save-session-interval=20 \"magnet link\"\n"
      ],
      "execution_count": 0,
      "outputs": []
    },
    {
      "cell_type": "code",
      "metadata": {
        "id": "NVI8YS9EJTgz",
        "colab_type": "code",
        "colab": {}
      },
      "source": [
        ""
      ],
      "execution_count": 0,
      "outputs": []
    },
    {
      "cell_type": "code",
      "metadata": {
        "id": "w1T6sEliJVnJ",
        "colab_type": "code",
        "colab": {}
      },
      "source": [
        "!pip install coursera-dl"
      ],
      "execution_count": 0,
      "outputs": []
    },
    {
      "cell_type": "code",
      "metadata": {
        "id": "voXsRg5uNq3N",
        "colab_type": "code",
        "colab": {}
      },
      "source": [
        "!pip install edx-dl"
      ],
      "execution_count": 0,
      "outputs": []
    },
    {
      "cell_type": "code",
      "metadata": {
        "id": "KftjQTXWNv99",
        "colab_type": "code",
        "colab": {}
      },
      "source": [
        "!edx-dl --help"
      ],
      "execution_count": 0,
      "outputs": []
    },
    {
      "cell_type": "code",
      "metadata": {
        "id": "_haG6n7vN7zN",
        "colab_type": "code",
        "colab": {}
      },
      "source": [
        "!edx-dl -u ayushrwt801@gmail.com -p wthisgoingon1 https://courses.edx.org/courses/course-v1:Microsoft+DEV285x+3T2019/course/"
      ],
      "execution_count": 0,
      "outputs": []
    },
    {
      "cell_type": "code",
      "metadata": {
        "id": "itve1LvdGKoj",
        "colab_type": "code",
        "colab": {}
      },
      "source": [
        "!coursera-dl --help"
      ],
      "execution_count": 0,
      "outputs": []
    },
    {
      "cell_type": "code",
      "metadata": {
        "id": "y3m4oOQNETPI",
        "colab_type": "code",
        "colab": {}
      },
      "source": [
        "!mkdir \"/content/coursera/\"\n",
        "%cd \"/content/coursera/\""
      ],
      "execution_count": 0,
      "outputs": []
    },
    {
      "cell_type": "code",
      "metadata": {
        "id": "Q-KTQXulFs2D",
        "colab_type": "code",
        "colab": {}
      },
      "source": [
        "!mkdir \"/content/coursera/philosophy\"\n",
        "%cd \"/content/coursera/philosophy\""
      ],
      "execution_count": 0,
      "outputs": []
    },
    {
      "cell_type": "code",
      "metadata": {
        "id": "EPvW4vUlJmAd",
        "colab_type": "code",
        "colab": {}
      },
      "source": [
        "!coursera-dl --username ayushrwt@gmail.com --password alskdjfhg1 --cauth 2fG_jfNtDy04z1jVK2zDxXOfx1XFF_pSPBiDwu5GAZG1Bo0zpoCW6E5dwIHQr9KJC1_iSwZKu_yP0wV2dOepAQ.bx-fQstQOzZLuUOBBexpUQ.4oytPJOWBFJS_lo1zIUKcvQNIuWa3OfNaudhaQdiCci8CHYxEGOzmefHNMbFao-goylXpqoGtiRkOqVdghCEC0jcs1GgIoh9Mi9DxLEG6GIw_37jEMy4GCHN2cJKApFA0iT767PcsI_tSnHwBklu-E3p9RsB1CvoLEIW9aeD5TsALAewngFDgsjGmVF_W9sb --jobs 80 --subtitle-language en --download-delay 1 --download-notebooks --aria2 --download-quizzes --specialization data-structures-algorithms"
      ],
      "execution_count": 0,
      "outputs": []
    },
    {
      "cell_type": "code",
      "metadata": {
        "id": "f9tUSVlaHr28",
        "colab_type": "code",
        "colab": {}
      },
      "source": [
        "!coursera-dl --username ayushrwt@gmail.com --password alskdjfhg1 --cauth 2fG_jfNtDy04z1jVK2zDxXOfx1XFF_pSPBiDwu5GAZG1Bo0zpoCW6E5dwIHQr9KJC1_iSwZKu_yP0wV2dOepAQ.bx-fQstQOzZLuUOBBexpUQ.4oytPJOWBFJS_lo1zIUKcvQNIuWa3OfNaudhaQdiCci8CHYxEGOzmefHNMbFao-goylXpqoGtiRkOqVdghCEC0jcs1GgIoh9Mi9DxLEG6GIw_37jEMy4GCHN2cJKApFA0iT767PcsI_tSnHwBklu-E3p9RsB1CvoLEIW9aeD5TsALAewngFDgsjGmVF_W9sb --list-courses"
      ],
      "execution_count": 0,
      "outputs": []
    },
    {
      "cell_type": "code",
      "metadata": {
        "id": "foKSJbyHFa8V",
        "colab_type": "code",
        "colab": {}
      },
      "source": [
        "!du -h \"/content/coursera\""
      ],
      "execution_count": 0,
      "outputs": []
    },
    {
      "cell_type": "code",
      "metadata": {
        "id": "5QsfAlJIKt3y",
        "colab_type": "code",
        "colab": {}
      },
      "source": [
        "!pwd"
      ],
      "execution_count": 0,
      "outputs": []
    },
    {
      "cell_type": "code",
      "metadata": {
        "id": "cfKo7tx8J1HD",
        "colab_type": "code",
        "colab": {}
      },
      "source": [
        "!7z -v300m -mx1 -mmt4 a \"algorithm\" \"/content/coursera/\" \n",
        "!find -name \"*.7z.*\" -exec bash -c 'mv \"{}\" \"/content/drive/My Drive/coursera_dedx\"' {} \\;\n",
        "!find -name \"*\" -exec bash -c 'mv \"{}\" \"/content/x\"' {} \\; "
      ],
      "execution_count": 0,
      "outputs": []
    },
    {
      "cell_type": "code",
      "metadata": {
        "id": "_XvJ7pbYBzO7",
        "colab_type": "code",
        "colab": {}
      },
      "source": [
        "!pip install speedtest-cli"
      ],
      "execution_count": 0,
      "outputs": []
    },
    {
      "cell_type": "code",
      "metadata": {
        "id": "QrDaVHi0BzJT",
        "colab_type": "code",
        "colab": {}
      },
      "source": [
        "!rm -rf \"/content/coursera\""
      ],
      "execution_count": 0,
      "outputs": []
    },
    {
      "cell_type": "code",
      "metadata": {
        "id": "lRJXZ7VnKJFK",
        "colab_type": "code",
        "colab": {}
      },
      "source": [
        "!wget -q \"https://drive.google.com/file/d/12vexJynOmYJkRbmA24XkNzEvYHvyw1AF/view\" -O- | grep -oP \"(?<=title': ').*?(?=',)\""
      ],
      "execution_count": 0,
      "outputs": []
    },
    {
      "cell_type": "code",
      "metadata": {
        "id": "cXi-4R8pFju_",
        "colab_type": "code",
        "colab": {}
      },
      "source": [
        ""
      ],
      "execution_count": 0,
      "outputs": []
    },
    {
      "cell_type": "code",
      "metadata": {
        "id": "w4NfQ4vVc3pl",
        "colab_type": "code",
        "colab": {}
      },
      "source": [
        "!man rsync "
      ],
      "execution_count": 0,
      "outputs": []
    },
    {
      "cell_type": "code",
      "metadata": {
        "id": "ctWwOpkibDC7",
        "colab_type": "code",
        "colab": {}
      },
      "source": [
        "!sed -i -e 's/\\r$//' /content/parallel_rsync.sh\n",
        "!chmod +x /content/parallel_rsync.sh"
      ],
      "execution_count": 0,
      "outputs": []
    },
    {
      "cell_type": "code",
      "metadata": {
        "id": "BU-LoIzHkiM6",
        "colab_type": "code",
        "colab": {}
      },
      "source": [
        "!/content/parallel_rsync.sh"
      ],
      "execution_count": 0,
      "outputs": []
    },
    {
      "cell_type": "code",
      "metadata": {
        "id": "pipA6J85eCXv",
        "colab_type": "code",
        "colab": {}
      },
      "source": [
        "!rm -rf \"/content/Mus\""
      ],
      "execution_count": 0,
      "outputs": []
    },
    {
      "cell_type": "code",
      "metadata": {
        "id": "b2U8JfveZ2Hv",
        "colab_type": "code",
        "colab": {}
      },
      "source": [
        "!du \"/content/drive/My Drive\""
      ],
      "execution_count": 0,
      "outputs": []
    },
    {
      "cell_type": "code",
      "metadata": {
        "id": "xrFmltXsXiBf",
        "colab_type": "code",
        "colab": {}
      },
      "source": [
        "!du \"/content/drive/Shared drives/colab1\""
      ],
      "execution_count": 0,
      "outputs": []
    },
    {
      "cell_type": "code",
      "metadata": {
        "id": "HXQY5jQuoNY_",
        "colab_type": "code",
        "colab": {}
      },
      "source": [
        "!du \"/content/drive/Shared drives/colab2\""
      ],
      "execution_count": 0,
      "outputs": []
    },
    {
      "cell_type": "code",
      "metadata": {
        "id": "LrWlrR0ToNnn",
        "colab_type": "code",
        "colab": {}
      },
      "source": [
        "!du \"/content/drive/Shared drives/colab3\""
      ],
      "execution_count": 0,
      "outputs": []
    },
    {
      "cell_type": "code",
      "metadata": {
        "id": "KM8P6WKKorH2",
        "colab_type": "code",
        "colab": {}
      },
      "source": [
        "%cd /content/"
      ],
      "execution_count": 0,
      "outputs": []
    },
    {
      "cell_type": "code",
      "metadata": {
        "id": "o81aEfqgooJ9",
        "colab_type": "code",
        "colab": {}
      },
      "source": [
        "!find -type d -iname \"Colab Notebooks\" -exec bash -c 'rm -rf \"{}\"' {} \\;"
      ],
      "execution_count": 0,
      "outputs": []
    },
    {
      "cell_type": "code",
      "metadata": {
        "id": "PdGyJKeiZ9gr",
        "colab_type": "code",
        "colab": {}
      },
      "source": [
        "!rm -rf \"/content/drive/Shared drives/colab2/Music\""
      ],
      "execution_count": 0,
      "outputs": []
    },
    {
      "cell_type": "code",
      "metadata": {
        "id": "j9ZCFYTgajLi",
        "colab_type": "code",
        "colab": {}
      },
      "source": [
        "!rclone copy emfyr:Music colab2: -v"
      ],
      "execution_count": 0,
      "outputs": []
    },
    {
      "cell_type": "code",
      "metadata": {
        "id": "iLnfcolob3JZ",
        "colab_type": "code",
        "colab": {}
      },
      "source": [
        "!rsync -avu --progress \"/content/drive/My Drive/Music\" \"/content/drive/Shared drives/colab2\""
      ],
      "execution_count": 0,
      "outputs": []
    },
    {
      "cell_type": "code",
      "metadata": {
        "id": "-Vj6a9EI7klO",
        "colab_type": "code",
        "colab": {}
      },
      "source": [
        "%cd /content/\n",
        "#!wget https://github.com/d-fi/releases/releases/download/1.3.2/d-fi-linux.zip\n",
        "!7z -o* x /content/d-fi-linux.zip\n",
        "\n",
        "%cd d-fi-linux\n",
        "\n",
        "%cd \"/content/d-fi-linux\"\n",
        "!chmod +x ./d-fi\n",
        "!mkdir \"/content/drive/My Drive/Music\"\n",
        "\n"
      ],
      "execution_count": 0,
      "outputs": []
    },
    {
      "cell_type": "code",
      "metadata": {
        "id": "Pdo3beLi8tPn",
        "colab_type": "code",
        "colab": {}
      },
      "source": [
        ""
      ],
      "execution_count": 0,
      "outputs": []
    },
    {
      "cell_type": "code",
      "metadata": {
        "colab_type": "code",
        "id": "lx9aQy0y9CLO",
        "colab": {}
      },
      "source": [
        "!sed -i -e 's/\\r$//' /content/para.sh\n",
        "!chmod +x /content/para.sh"
      ],
      "execution_count": 0,
      "outputs": []
    },
    {
      "cell_type": "code",
      "metadata": {
        "id": "k83BvR7PdMIp",
        "colab_type": "code",
        "colab": {}
      },
      "source": [
        "%cd /content/d-fi-linux"
      ],
      "execution_count": 0,
      "outputs": []
    },
    {
      "cell_type": "code",
      "metadata": {
        "id": "K28RNgtz9N9R",
        "colab_type": "code",
        "colab": {}
      },
      "source": [
        "!/content/para.sh \"/content/d-fi-linux/d-fi -c 99 https://www.deezer.com/en/album/138785822\" \"/content/d-fi-linux/d-fi -c 99 https://www.deezer.com/en/album/138792732\" \"/content/d-fi-linux/d-fi -c 99 https://www.deezer.com/en/album/138795292\" \"/content/d-fi-linux/d-fi -c 99 https://www.deezer.com/en/album/138800062\" \"/content/d-fi-linux/d-fi -c 99 https://www.deezer.com/en/album/138803172\" \"/content/d-fi-linux/d-fi -c 99 https://www.deezer.com/en/album/98207542\" \"/content/d-fi-linux/d-fi -c 99 https://www.deezer.com/en/album/106189822\""
      ],
      "execution_count": 0,
      "outputs": []
    },
    {
      "cell_type": "code",
      "metadata": {
        "id": "gz1INohKWT5y",
        "colab_type": "code",
        "colab": {}
      },
      "source": [
        "!rm -rf \"/content/drive/My Drive/[AnimeKaizoku] Isekai Quartet S2 720p Eng Sub [LoliKiller]\""
      ],
      "execution_count": 0,
      "outputs": []
    },
    {
      "cell_type": "code",
      "metadata": {
        "id": "EUXluwH6MVOQ",
        "colab_type": "code",
        "colab": {}
      },
      "source": [
        "#If downloaded only whats required\n",
        "\n",
        "# archive name (below)\n",
        "#!7z -v300m -mx1 -mmt4 -pemfyr a \"Arijit Singh\" \"/content/Music\"\n",
        "!find -mindepth 1 -maxdepth 1  -name \"*.7z.*\" -exec bash -c 'mv \"{}\" \"/content/drive/My Drive/Music/\"' {} \\;\n",
        "!rm -rf \"/content/Music\""
      ],
      "execution_count": 0,
      "outputs": []
    },
    {
      "cell_type": "code",
      "metadata": {
        "id": "vrYyeCdhlzRD",
        "colab_type": "code",
        "colab": {}
      },
      "source": [
        "!du -h \"/content/drive/My Drive\""
      ],
      "execution_count": 0,
      "outputs": []
    },
    {
      "cell_type": "code",
      "metadata": {
        "id": "ngc4dlTDiN84",
        "colab_type": "code",
        "colab": {}
      },
      "source": [
        "%cd \"/content/drive/Shared drives/colab2\"\n",
        "!find . -mindepth 1 -maxdepth 1 -type f -iname \"*.7z.00*\" -exec bash -c 'rm -rf \"{}\"' {} \\;"
      ],
      "execution_count": 0,
      "outputs": []
    },
    {
      "cell_type": "code",
      "metadata": {
        "id": "lKT8UsAn9Uyp",
        "colab_type": "code",
        "colab": {}
      },
      "source": [
        "!du -h"
      ],
      "execution_count": 0,
      "outputs": []
    },
    {
      "cell_type": "code",
      "metadata": {
        "id": "vJ5m0zmKE8pG",
        "colab_type": "code",
        "colab": {}
      },
      "source": [
        "%cd \"/content/d-fi-linux/Music\"\n",
        "!find . -type f \\( -iname \"*\" ! -iname \"*.mp3\" \\) -exec bash -c 'rm -rf \"{}\"' {} \\;"
      ],
      "execution_count": 0,
      "outputs": []
    }
  ]
}