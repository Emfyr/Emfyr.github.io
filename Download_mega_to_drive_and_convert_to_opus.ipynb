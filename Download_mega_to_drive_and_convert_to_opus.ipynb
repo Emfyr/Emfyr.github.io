{
  "nbformat": 4,
  "nbformat_minor": 0,
  "metadata": {
    "colab": {
      "name": "Download mega to drive and convert to opus.ipynb",
      "provenance": []
    },
    "kernelspec": {
      "name": "python3",
      "display_name": "Python 3"
    },
    "accelerator": "GPU"
  },
  "cells": [
    {
      "cell_type": "code",
      "metadata": {
        "id": "lY0WFWB2aLRL",
        "colab_type": "code",
        "colab": {}
      },
      "source": [
        "from google.colab import drive\n",
        "drive.mount('/content/drive')"
      ],
      "execution_count": 0,
      "outputs": []
    },
    {
      "cell_type": "code",
      "metadata": {
        "id": "Lqh-Py_2aYnR",
        "colab_type": "code",
        "colab": {}
      },
      "source": [
        "!apt-get install megatools"
      ],
      "execution_count": 0,
      "outputs": []
    },
    {
      "cell_type": "code",
      "metadata": {
        "id": "vpSxe66ijjID",
        "colab_type": "code",
        "colab": {}
      },
      "source": [
        "!apt-get install opus-tools"
      ],
      "execution_count": 0,
      "outputs": []
    },
    {
      "cell_type": "code",
      "metadata": {
        "id": "MCbfJpCMaUmR",
        "colab_type": "code",
        "colab": {}
      },
      "source": [
        "cd \"/content/drive/My Drive/\""
      ],
      "execution_count": 0,
      "outputs": []
    },
    {
      "cell_type": "code",
      "metadata": {
        "id": "GkN0xQrC2ci6",
        "colab_type": "code",
        "colab": {}
      },
      "source": [
        "!mkdir mega"
      ],
      "execution_count": 0,
      "outputs": []
    },
    {
      "cell_type": "code",
      "metadata": {
        "id": "1ICIjatW3S3q",
        "colab_type": "code",
        "colab": {}
      },
      "source": [
        "!mkdir rar"
      ],
      "execution_count": 0,
      "outputs": []
    },
    {
      "cell_type": "code",
      "metadata": {
        "id": "WMZHFRtg25jE",
        "colab_type": "code",
        "colab": {}
      },
      "source": [
        "cd \"/content/drive/My Drive/mega/\""
      ],
      "execution_count": 0,
      "outputs": []
    },
    {
      "cell_type": "code",
      "metadata": {
        "id": "C0P6XT15bWwD",
        "colab_type": "code",
        "colab": {}
      },
      "source": [
        "!megadl \"the link\""
      ],
      "execution_count": 0,
      "outputs": []
    },
    {
      "cell_type": "code",
      "metadata": {
        "id": "RAx5rTwRz7V2",
        "colab_type": "code",
        "colab": {}
      },
      "source": [
        "!find \"/content/drive/My Drive/mega/\" -type f -iname \"*.flac\" -exec mv --backup=numbered -t \"/content/drive/My Drive/rar\" {} +"
      ],
      "execution_count": 0,
      "outputs": []
    },
    {
      "cell_type": "code",
      "metadata": {
        "id": "BoGAZziF3pz5",
        "colab_type": "code",
        "colab": {}
      },
      "source": [
        "cd \"/content/drive/My Drive/rar\""
      ],
      "execution_count": 0,
      "outputs": []
    },
    {
      "cell_type": "code",
      "metadata": {
        "id": "JHb4_SiDj3fL",
        "colab_type": "code",
        "colab": {}
      },
      "source": [
        "!for i in *.flac; do opusenc --bitrate 256 \"$i\" \"${i%.*}.opus\"; done"
      ],
      "execution_count": 0,
      "outputs": []
    },
    {
      "cell_type": "code",
      "metadata": {
        "id": "qSEafUe5n6h5",
        "colab_type": "code",
        "colab": {}
      },
      "source": [
        "!find . -type f -iname \\*.flac -delete"
      ],
      "execution_count": 0,
      "outputs": []
    },
    {
      "cell_type": "code",
      "metadata": {
        "id": "OMb1ADjQXAgY",
        "colab_type": "code",
        "colab": {}
      },
      "source": [
        "!mv \"/content/drive/My Drive/mega/\" \"/content/drive/My Drive/rar\""
      ],
      "execution_count": 0,
      "outputs": []
    },
    {
      "cell_type": "code",
      "metadata": {
        "colab_type": "code",
        "id": "yHqJ19dt5cyA",
        "colab": {}
      },
      "source": [
        "cd \"/content/drive/My Drive/\""
      ],
      "execution_count": 0,
      "outputs": []
    },
    {
      "cell_type": "code",
      "metadata": {
        "id": "z2G8IkAJ5hZP",
        "colab_type": "code",
        "colab": {}
      },
      "source": [
        "!7z a \"all album name please\" ./rar/*"
      ],
      "execution_count": 0,
      "outputs": []
    },
    {
      "cell_type": "code",
      "metadata": {
        "id": "jk0F_qF9Waf0",
        "colab_type": "code",
        "colab": {}
      },
      "source": [
        "!rm -r ./rar/"
      ],
      "execution_count": 0,
      "outputs": []
    }
  ]
}