{
  "nbformat": 4,
  "nbformat_minor": 0,
  "metadata": {
    "colab": {
      "name": "Colab.ipynb",
      "provenance": [],
      "toc_visible": true
    },
    "kernelspec": {
      "name": "python3",
      "display_name": "Python 3"
    }
  },
  "cells": [
    {
      "cell_type": "markdown",
      "metadata": {
        "id": "z7j61MwqNhnw",
        "colab_type": "text"
      },
      "source": [
        "# This will download files (most likely music) from my mega import folder to mega folder in /content/, extract zip,rar,7z files, delete the archive files, convert png to jpg, convert all flac,aiff,wav files to opus, delete png,flac,aiff,wav files, archive them with each single archive being 300mb in the rar folder of /My Drive/\n",
        "\n",
        "Don't forget to change name of the archive.\n",
        "\n",
        "Don't forget to change directory to /content/mega/ before downloading files form mega.\n",
        "\n",
        "Use \"-p'your_password'\" in 7z command if file is password protected."
      ]
    },
    {
      "cell_type": "code",
      "metadata": {
        "id": "6qA3ItfXDlSn",
        "colab_type": "code",
        "colab": {}
      },
      "source": [
        "from google.colab import drive\n",
        "drive.mount('/content/drive')"
      ],
      "execution_count": 0,
      "outputs": []
    },
    {
      "cell_type": "code",
      "metadata": {
        "id": "Dd2DNbaKhuPC",
        "colab_type": "code",
        "colab": {}
      },
      "source": [
        "%cd \"/content/\"\n",
        "\n",
        "!curl https://rclone.org/install.sh | sudo bash -s beta\n",
        "!apt install opus-tools\n",
        "!apt install imagemagick\n",
        "!wget https://www.dropbox.com/s/4wwqn90n7z2mxrf/rclone.conf\n",
        "!wget https://www.dropbox.com/s/evpwifhq4eb1mm2/exclude.txt\n",
        "\n",
        "!mkdir \"/root/.config/rclone/\"\n",
        "!mv \"/content/rclone.conf\" \"/root/.config/rclone/\"\n"
      ],
      "execution_count": 0,
      "outputs": []
    },
    {
      "cell_type": "code",
      "metadata": {
        "id": "Dd2DNbaKsOjE",
        "colab_type": "code",
        "colab": {}
      },
      "source": [
        "%cd \"/content/\"\n",
        "!rclone move --checkers=10 --multi-thread-cutoff=10M --multi-thread-streams=10 --retries=10 --use-mmap --buffer-size=2000M --exclude-from=/content/exclude.txt --mega-hard-delete --transfers=10 \"mega:a\" \"/content/mega/\"\n"
      ],
      "execution_count": 0,
      "outputs": []
    },
    {
      "cell_type": "code",
      "metadata": {
        "id": "Lbzwjdpqj6kM",
        "colab_type": "code",
        "colab": {}
      },
      "source": [
        "%cd /content/mega/\n",
        "!du -h"
      ],
      "execution_count": 0,
      "outputs": []
    },
    {
      "cell_type": "code",
      "metadata": {
        "id": "CFsXE1wx19eu",
        "colab_type": "code",
        "colab": {}
      },
      "source": [
        "%cd \"/content/mega/\"\n",
        "\n",
        "!find . -name \"*.*\" -type 'f' -size -1k -delete\n",
        "\n",
        "!find -name \"*.zip\" -exec bash -c '7z -o\"${0/.zip}\" x \"{}\"' {} \\;\n",
        "!find -name \"*.rar\" -exec bash -c '7z -o\"${0/.rar}\" x \"{}\"' {} \\;\n",
        "!find -name \"*.7z\" -exec bash -c '7z -o\"${0/.7z}\" x \"{}\"' {} \\;\n",
        "\n",
        "\n",
        "!find . -type f -iname \\*.7z -delete\n",
        "!find . -type f -iname \\*.zip -delete\n",
        "!find . -type f -iname \\*.rar -delete\n",
        "\n",
        "!find -name \"*.png\" -exec bash -c 'convert \"{}\" -quality 90 \"${0/.png}.jpg\"' {} \\;\n",
        "!find -name \"*.flac\" -exec bash -c 'opusenc --quiet --discard-pictures --bitrate 192 \"{}\" \"${0/.flac}.opus\"' {} \\;\n",
        "!find -name \"*.flac\" -exec bash -c 'ffmpeg -loglevel quiet -n -i \"{}\" -c:a libopus -b:a 192k \"${0/.flac}.opus\"' {} \\;\n",
        "!find -name \"*.aiff\" -exec bash -c 'opusenc --quiet --discard-pictures --bitrate 192 \"{}\" \"${0/.aiff}.opus\"' {} \\;\n",
        "!find -name \"*.aiff\" -exec bash -c 'ffmpeg -loglevel quiet -n -i \"{}\" -c:a libopus -b:a 192k \"${0/.aiff}.opus\"' {} \\;\n",
        "!find -name \"*.wav\" -exec bash -c 'opusenc --quiet --discard-pictures --bitrate 192 \"{}\" \"${0/.wav}.opus\"' {} \\;\n",
        "!find -name \"*.wav\" -exec bash -c 'ffmpeg -loglevel quiet -n -i \"{}\" -c:a libopus -b:a 192k \"${0/.wav}.opus\"' {} \\;\n",
        "\n",
        "!find . -type f -iname \\*.png -delete\n",
        "!find . -type f -iname \\*.flac -delete\n",
        "!find . -type f -iname \\*.aiff -delete\n",
        "!find . -type f -iname \\*.wav -delete\n"
      ],
      "execution_count": 0,
      "outputs": []
    },
    {
      "cell_type": "code",
      "metadata": {
        "id": "TfTfN6AVinHg",
        "colab_type": "code",
        "colab": {}
      },
      "source": [
        "!mkdir \"/content/drive/My Drive/rar/\"\n",
        "%cd \"/content/drive/My Drive/rar/\"\n",
        "!7z -v300m -mx1 -mmt4 a \"some_shitz 2\" \"/content/mega/\"\n",
        "%cd \"/content/\"\n"
      ],
      "execution_count": 0,
      "outputs": []
    },
    {
      "cell_type": "code",
      "metadata": {
        "id": "TfTfN6AVmofo",
        "colab_type": "code",
        "colab": {}
      },
      "source": [
        "!rm -rf \"/content/mega/\"\n"
      ],
      "execution_count": 0,
      "outputs": []
    },
    {
      "cell_type": "markdown",
      "metadata": {
        "id": "hPq6yivSPcif",
        "colab_type": "text"
      },
      "source": [
        "# This download manga to \"/content\", then archive them into group of 300MB each file (directly saving them into /My Drive/).\n",
        "\n",
        "Don't forget to change the archive name.\n",
        "\n",
        "If downloading from mangadex, always use\n",
        "    \n",
        "    --chapter-filter \"lang == 'en'\" "
      ]
    },
    {
      "cell_type": "code",
      "metadata": {
        "id": "V4Z5ZyViXBI4",
        "colab_type": "code",
        "colab": {}
      },
      "source": [
        "from google.colab import drive\n",
        "drive.mount('/content/drive')"
      ],
      "execution_count": 0,
      "outputs": []
    },
    {
      "cell_type": "code",
      "metadata": {
        "id": "kc964u1xiYHV",
        "colab_type": "code",
        "colab": {}
      },
      "source": [
        "!pip install gallery-dl\n"
      ],
      "execution_count": 0,
      "outputs": []
    },
    {
      "cell_type": "code",
      "metadata": {
        "id": "GKU-LedqSmZR",
        "colab_type": "code",
        "colab": {}
      },
      "source": [
        "!gallery-dl -g https://mangadex.org/title/23569/gokushufudou-the-way-of-the-house-husband"
      ],
      "execution_count": 0,
      "outputs": []
    },
    {
      "cell_type": "code",
      "metadata": {
        "id": "jctQg-GOHD4Y",
        "colab_type": "code",
        "colab": {}
      },
      "source": [
        "%cd \"/content/\"\n",
        "\n",
        "!gallery-dl -u emfyr -p YESw3eY3AcxtuhyCXXW4Fm --ugoira-conv \"https://www.pixiv.net/en/users/648285\"\n",
        "\n",
        "!mkdir \"/content/drive/My Drive/Manga/\"\n",
        "%cd \"/content/gallery-dl/\"\n",
        "!find . -maxdepth 2 -mindepth 2 -type d -exec bash -c '7z -v300m -mx1 -mmt4 a \"{}\" \"{}\"' {} \\;\n",
        "!find -name \"*.7z.*\" -exec bash -c 'mv \"{}\" \"/content/drive/My Drive/Manga/\"' {} \\;\n"
      ],
      "execution_count": 0,
      "outputs": []
    },
    {
      "cell_type": "code",
      "metadata": {
        "id": "IDuNFee4jk3g",
        "colab_type": "code",
        "colab": {}
      },
      "source": [
        "%cd \"/content/\"\n",
        "!rm -rf \"/content/gallery-dl/\"\n"
      ],
      "execution_count": 0,
      "outputs": []
    },
    {
      "cell_type": "code",
      "metadata": {
        "id": "jag08ffSj-sW",
        "colab_type": "code",
        "colab": {}
      },
      "source": [
        "                                                   OR"
      ],
      "execution_count": 0,
      "outputs": []
    },
    {
      "cell_type": "code",
      "metadata": {
        "id": "FTNFMwy27Di2",
        "colab_type": "code",
        "colab": {}
      },
      "source": [
        "from google.colab import drive\n",
        "drive.mount('/content/drive')"
      ],
      "execution_count": 0,
      "outputs": []
    },
    {
      "cell_type": "code",
      "metadata": {
        "id": "ewXtuYJPjmrh",
        "colab_type": "code",
        "colab": {}
      },
      "source": [
        "!pip install manga-py\n"
      ],
      "execution_count": 0,
      "outputs": []
    },
    {
      "cell_type": "code",
      "metadata": {
        "id": "7Hbu0MVSj-0S",
        "colab_type": "code",
        "colab": {}
      },
      "source": [
        "%cd \"/content/\"\n",
        "\n",
        "!manga-py -t 30 -f --no-progress \"Link\"\n",
        "\n",
        "!mkdir \"/content/drive/My Drive/Manga/\"\n",
        "%cd \"/content/Manga/\"\n",
        "!find . -mindepth 1 -maxdepth 1 -type d -exec bash -c '7z -v300m -mx1 -mmt4 a \"{}\" \"{}\"' {} \\;\n",
        "!find -name \"*.7z.*\" -exec bash -c 'mv \"{}\" \"/content/drive/My Drive/Manga/\"' {} \\;\n"
      ],
      "execution_count": 0,
      "outputs": []
    },
    {
      "cell_type": "code",
      "metadata": {
        "id": "nG7Jv7aAu6fe",
        "colab_type": "code",
        "colab": {}
      },
      "source": [
        "%cd \"/content/\"\n",
        "!rm -rf \"/content/Manga/\"\n"
      ],
      "execution_count": 0,
      "outputs": []
    },
    {
      "cell_type": "markdown",
      "metadata": {
        "id": "F31-W1lwNA8t",
        "colab_type": "text"
      },
      "source": [
        "# Download torrent to wherever you want (-d)\n",
        "\n",
        "\n",
        "-This is important. If link is a magnet link, use      -d \"output directory\"\n",
        "    \n",
        "-Use for torrent file    -T file.torrent\n",
        "\n",
        "-Following only work if file is torrent (To show files)   -S\n",
        "\n",
        "\n",
        "-This would well slect files to download\n",
        "\n",
        "    --select-file=x-y,z,a-b \n",
        "\n"
      ]
    },
    {
      "cell_type": "code",
      "metadata": {
        "colab_type": "code",
        "id": "ZQYzLBMgcdFP",
        "colab": {}
      },
      "source": [
        "from google.colab import drive\n",
        "drive.mount('/content/drive')"
      ],
      "execution_count": 0,
      "outputs": []
    },
    {
      "cell_type": "code",
      "metadata": {
        "id": "x3gr52KxcYiF",
        "colab_type": "code",
        "colab": {}
      },
      "source": [
        "!apt install aria2"
      ],
      "execution_count": 0,
      "outputs": []
    },
    {
      "cell_type": "code",
      "metadata": {
        "id": "Dp46M5bAu8Um",
        "colab_type": "code",
        "colab": {}
      },
      "source": [
        "!aria2c --bt-metadata-only=true --bt-save-metadata=true -q \"magnet:?xt=urn:btih:403f15f971a36850bf8b9aabbb0df07779161bd4&dn=Band+Of+Brothers+HBO+Mini-Series+1080p+5.1Ch+BluRay+ReEnc-DeeJay&tr=udp%3A%2F%2Ftracker.leechers-paradise.org%3A6969&tr=udp%3A%2F%2Ftracker.openbittorrent.com%3A80&tr=udp%3A%2F%2Fopen.demonii.com%3A1337&tr=udp%3A%2F%2Ftracker.coppersurfer.tk%3A6969&tr=udp%3A%2F%2Fexodus.desync.com%3A6969\""
      ],
      "execution_count": 0,
      "outputs": []
    },
    {
      "cell_type": "code",
      "metadata": {
        "id": "V506Bkttw9yz",
        "colab_type": "code",
        "colab": {}
      },
      "source": [
        "!rm -rf \"/content/drive/My Drive/Series/HoC\""
      ],
      "execution_count": 0,
      "outputs": []
    },
    {
      "cell_type": "code",
      "metadata": {
        "id": "RPm-BWoKOWJ3",
        "colab_type": "code",
        "colab": {}
      },
      "source": [
        "!aria2c --max-connection-per-server=16 --split=16 --seed-time=0 --download-result=full --auto-save-interval=20 --bt-max-open-files=10000 --bt-max-peers=0 --save-session-interval=20 --summary-interval=10 -d \"/content/drive/My Drive/Series/PB\" "
      ],
      "execution_count": 0,
      "outputs": []
    },
    {
      "cell_type": "code",
      "metadata": {
        "id": "Riqc3NjTHDt3",
        "colab_type": "code",
        "colab": {}
      },
      "source": [
        ""
      ],
      "execution_count": 0,
      "outputs": []
    },
    {
      "cell_type": "code",
      "metadata": {
        "id": "Ryxv5sPoHD01",
        "colab_type": "code",
        "colab": {}
      },
      "source": [
        ""
      ],
      "execution_count": 0,
      "outputs": []
    },
    {
      "cell_type": "code",
      "metadata": {
        "id": "xxDX8R_UADbq",
        "colab_type": "code",
        "colab": {}
      },
      "source": [
        "%cd /content/\n",
        "!wget https://github.com/d-fi/releases/releases/download/1.2.1/d-fi-linux-x64.zip"
      ],
      "execution_count": 0,
      "outputs": []
    },
    {
      "cell_type": "code",
      "metadata": {
        "id": "fdpACtafAUBL",
        "colab_type": "code",
        "colab": {}
      },
      "source": [
        "!7z -o* x /content/d-fi-linux-x64.zip"
      ],
      "execution_count": 0,
      "outputs": []
    },
    {
      "cell_type": "code",
      "metadata": {
        "id": "GuJKjaUzEP9Z",
        "colab_type": "code",
        "colab": {}
      },
      "source": [
        "%cd d-fi-linux-x64"
      ],
      "execution_count": 0,
      "outputs": []
    },
    {
      "cell_type": "code",
      "metadata": {
        "id": "r1rEwJB8Ad2-",
        "colab_type": "code",
        "colab": {}
      },
      "source": [
        "%cd \"/content/d-fi-linux-x64\"\n",
        "!chmod +x ./d-fi\n",
        "!mkdir \"/content/drive/My Drive/Music\""
      ],
      "execution_count": 0,
      "outputs": []
    },
    {
      "cell_type": "code",
      "metadata": {
        "id": "aZAF5ky56Syt",
        "colab_type": "code",
        "colab": {}
      },
      "source": [
        "!/content/d-fi-linux-x64/d-fi -c 99 https://open.spotify.com/album/1biLW8iS0oDiqFWRBG8gTQ"
      ],
      "execution_count": 0,
      "outputs": []
    },
    {
      "cell_type": "code",
      "metadata": {
        "id": "W_ntMIq8DmXe",
        "colab_type": "code",
        "colab": {}
      },
      "source": [
        "!sed -i -e 's/\\r$//' /content/para.sh\n",
        "!chmod +x /content/para.sh"
      ],
      "execution_count": 0,
      "outputs": []
    },
    {
      "cell_type": "code",
      "metadata": {
        "id": "nRz8KgkRC617",
        "colab_type": "code",
        "colab": {}
      },
      "source": [
        "!/content/para.sh \"/content/d-fi-linux-x64/d-fi -c 99 https://www.deezer.com/en/album/119658682\" \"/content/d-fi-linux-x64/d-fi -c 99 https://www.deezer.com/en/album/85325062\" \"/content/d-fi-linux-x64/d-fi -c 99 https://www.deezer.com/en/album/80200142\" \"/content/d-fi-linux-x64/d-fi -c 99 https://www.deezer.com/en/album/132308162\" \"/content/d-fi-linux-x64/d-fi -c 99 https://www.deezer.com/en/album/123847362\" \"/content/d-fi-linux-x64/d-fi -c 99 https://www.deezer.com/en/album/65853122\" \"/content/d-fi-linux-x64/d-fi -c 99 https://www.deezer.com/en/album/41054771\" \"/content/d-fi-linux-x64/d-fi -c 99 https://www.deezer.com/en/album/15386317\" \"/content/d-fi-linux-x64/d-fi -c 99 https://www.deezer.com/en/album/66939292\""
      ],
      "execution_count": 0,
      "outputs": []
    },
    {
      "cell_type": "code",
      "metadata": {
        "id": "k-0ZPhXzB_Uv",
        "colab_type": "code",
        "colab": {}
      },
      "source": [
        "#If downloaded only whats required\n",
        "\n",
        "# archive name (below)\n",
        "!7z -v300m -mx1 -mmt4 a \"hyun\" \"/content/d-fi-linux-x64/Music\"\n",
        "!find -name \"*.7z.*\" -exec bash -c 'mv \"{}\" \"/content/drive/My Drive/Music/\"' {} \\;\n",
        "!rm -rf \"/content/d-fi-linux-x64/Music\"\n"
      ],
      "execution_count": 0,
      "outputs": []
    },
    {
      "cell_type": "code",
      "metadata": {
        "id": "bkukUQzqIEdv",
        "colab_type": "code",
        "colab": {}
      },
      "source": [
        "#If downloaded extra shit\n",
        "\n",
        "!mkdir \"/content/Music\"\n",
        "#artist name to move (below)\n",
        "!find -name \" *\"  -type d -exec bash -c 'mv \"{}\" \"/content/Music\"' {} \\;\n",
        "#archive name (below)\n",
        "!7z -v300m -mx1 -mmt4 a \"Hiroyuki Sawano\" \"/content/d-fi-linux-x64/Music\"\n",
        "!find -name \"*.7z.*\" -exec bash -c 'mv \"{}\" \"/content/drive/My Drive/Music/\"' {} \\;\n",
        "!rm -rf \"/content/d-fi-linux-x64/Music\"\n",
        "!rm -rf \"/content/Music\""
      ],
      "execution_count": 0,
      "outputs": []
    },
    {
      "cell_type": "markdown",
      "metadata": {
        "id": "hvq7BPQtG4nZ",
        "colab_type": "text"
      },
      "source": [
        "#Export Discord Chat"
      ]
    },
    {
      "cell_type": "code",
      "metadata": {
        "id": "Zt6E83VERjzN",
        "colab_type": "code",
        "colab": {}
      },
      "source": [
        "!sudo apt-get install -y gpg\n",
        "!wget -qO- https://packages.microsoft.com/keys/microsoft.asc | gpg --dearmor -o microsoft.asc.gpg\n",
        "!sudo mv microsoft.asc.gpg /etc/apt/trusted.gpg.d/\n",
        "!wget -q https://packages.microsoft.com/config/ubuntu/19.04/prod.list\n",
        "!sudo mv prod.list /etc/apt/sources.list.d/microsoft-prod.list\n",
        "!sudo chown root:root /etc/apt/trusted.gpg.d/microsoft.asc.gpg\n",
        "!sudo chown root:root /etc/apt/sources.list.d/microsoft-prod.list\n",
        "!sudo apt-get install -y apt-transport-https\n",
        "!sudo apt-get update\n",
        "!sudo apt-get install dotnet-runtime-3.1"
      ],
      "execution_count": 0,
      "outputs": []
    },
    {
      "cell_type": "code",
      "metadata": {
        "id": "p7jeflyTR0WI",
        "colab_type": "code",
        "colab": {}
      },
      "source": [
        "!wget https://github.com/Tyrrrz/DiscordChatExporter/releases/download/2.17/DiscordChatExporter.CLI.zip"
      ],
      "execution_count": 0,
      "outputs": []
    },
    {
      "cell_type": "code",
      "metadata": {
        "id": "1luYPJxdSLnO",
        "colab_type": "code",
        "colab": {}
      },
      "source": [
        "!7z -o* x DiscordChatExporter.CLI.zip"
      ],
      "execution_count": 0,
      "outputs": []
    },
    {
      "cell_type": "code",
      "metadata": {
        "id": "XH-02T9DSPCe",
        "colab_type": "code",
        "colab": {}
      },
      "source": [
        "%cd DiscordChatExporter.CLI"
      ],
      "execution_count": 0,
      "outputs": []
    },
    {
      "cell_type": "code",
      "metadata": {
        "id": "h6IXGlfCSQmw",
        "colab_type": "code",
        "colab": {}
      },
      "source": [
        "!dotnet DiscordChatExporter.Cli.dll export -f HtmlDark -o \"/content/a\" -t NjAwODg4NzE0MzM5NjgwMjU3.Xckr4A.wlBIG9DF0lC1v0u_LTo9Da0_a7Y -c 541811241824288779"
      ],
      "execution_count": 0,
      "outputs": []
    }
  ]
}